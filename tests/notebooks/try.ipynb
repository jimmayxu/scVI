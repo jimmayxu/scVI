{
  "cells": [
    {
      "cell_type": "code",
      "execution_count": 2,
      "metadata": {
        "collapsed": true,
        "pycharm": {
          "is_executing": false
        }
      },
      "outputs": [
        {
          "name": "stdout",
          "text": [
            "hello jupyter\n2\n"
          ],
          "output_type": "stream"
        }
      ],
      "source": "print(\"hello jupyter\")\n\nx\u003d2-3+3\nprint(x)\n"
    }
  ],
  "metadata": {
    "language_info": {
      "codemirror_mode": {
        "name": "ipython",
        "version": 2
      },
      "file_extension": ".py",
      "mimetype": "text/x-python",
      "name": "python",
      "nbconvert_exporter": "python",
      "pygments_lexer": "ipython2",
      "version": "2.7.6"
    },
    "kernelspec": {
      "name": "pycharm-5cbde41a",
      "language": "python",
      "display_name": "PyCharm (scVI)"
    }
  },
  "nbformat": 4,
  "nbformat_minor": 0
}