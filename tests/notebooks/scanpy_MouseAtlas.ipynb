{
 "cells": [
  {
   "cell_type": "markdown",
   "metadata": {
    "pycharm": {}
   },
   "source": [
    "# Clustering HCA Mouse Atlas with scVI and ScanPy"
   ]
  },
  {
   "cell_type": "markdown",
   "metadata": {},
   "source": [
    "Disclaimer: some of the code in this notebook was taken from Scanpy's Clustering tutorial (https://scanpy-tutorials.readthedocs.io/en/latest/pbmc3k.html) which is itself based on SEURAT's clustering tutorial in R.\n",
    "\n",
    "This notebook is designed as a demonstration of scVI's potency on the tasks considered in the Scanpy PBMC 3K Clustering notebook.\n",
    "In order to do so, we follow the same workflow adopted by scanpy in their clustering tutorial while performing the analysis using scVI as often as possible.\n",
    "Specifically, we use scVI's latent representation and differential expression analysis (which computes a Bayes Factor on imputed values). \n",
    "For visualisation, pre-processing and for some canonical analysis, we use the Scanpy package directly.\n",
    "\n",
    "When useful, we provide high-level wrappers around scVI's analysis tools. These functions are designed to make standard use of scVI as easy as possible.\n",
    "For specific use cases, we encourage the reader to take a closer look at those functions and modify them according to his needs."
   ]
  },
  {
   "cell_type": "code",
   "execution_count": 1,
   "metadata": {},
   "outputs": [
    {
     "name": "stdout",
     "output_type": "stream",
     "text": [
      "/nfs/team205/zx3/PycharmProject/scVI\n"
     ]
    }
   ],
   "source": [
    "cd ../../"
   ]
  },
  {
   "cell_type": "markdown",
   "metadata": {},
   "source": [
    "## Automated testing configuration"
   ]
  },
  {
   "cell_type": "code",
   "execution_count": 2,
   "metadata": {},
   "outputs": [],
   "source": [
    "# This is for notebook automated testing purpose\n",
    "def allow_notebook_for_test():\n",
    "    print(\"Testing the annotation notebook\")\n",
    "\n",
    "import sys, os\n",
    "\n",
    "sys.path.append(os.path.abspath(\"../..\"))\n",
    "n_epochs_all = None\n",
    "test_mode = False\n",
    "\n",
    "\n",
    "def if_not_test_else(x, y):\n",
    "    if not test_mode:\n",
    "        return x\n",
    "    else:\n",
    "        return y\n",
    "\n",
    "\n",
    "save_path = \"data/\"\n",
    "\n",
    "# End of configuration"
   ]
  },
  {
   "cell_type": "markdown",
   "metadata": {},
   "source": [
    "## Initialization"
   ]
  },
  {
   "cell_type": "code",
   "execution_count": 3,
   "metadata": {
    "pycharm": {}
   },
   "outputs": [],
   "source": [
    "# Uncomment to download the data (only works on Unix system)\n",
    "# !mkdir data\n",
    "# !wget http://cf.10xgenomics.com/samples/cell-exp/1.1.0/pbmc3k/pbmc3k_filtered_gene_bc_matrices.tar.gz -O data/pbmc3k_filtered_gene_bc_matrices.tar.gz\n",
    "# !cd data; tar -xzf pbmc3k_filtered_gene_bc_matrices.tar.gz"
   ]
  },
  {
   "cell_type": "code",
   "execution_count": 4,
   "metadata": {
    "pycharm": {
     "is_executing": false
    }
   },
   "outputs": [],
   "source": [
    "# Seed for reproducability\n",
    "import torch\n",
    "import numpy as np\n",
    "\n",
    "torch.manual_seed(0)\n",
    "np.random.seed(0)"
   ]
  },
  {
   "cell_type": "code",
   "execution_count": 5,
   "metadata": {
    "pycharm": {},
    "scrolled": false
   },
   "outputs": [],
   "source": [
    "import pandas as pd\n",
    "import scanpy as sc\n",
    "\n",
    "sc.settings.verbosity = 0  # verbosity: errors (0), warnings (1), info (2), hints (3)"
   ]
  },
  {
   "cell_type": "code",
   "execution_count": 6,
   "metadata": {
    "pycharm": {}
   },
   "outputs": [],
   "source": [
    "if not test_mode:\n",
    "    %matplotlib inline\n",
    "    sc.settings.set_figure_params(dpi=60)"
   ]
  },
  {
   "cell_type": "code",
   "execution_count": 7,
   "metadata": {},
   "outputs": [
    {
     "data": {
      "text/plain": [
       "False"
      ]
     },
     "execution_count": 7,
     "metadata": {},
     "output_type": "execute_result"
    }
   ],
   "source": [
    "test_mode"
   ]
  },
  {
   "cell_type": "markdown",
   "metadata": {
    "pycharm": {},
    "scrolled": true
   },
   "source": [
    "# Load the data\n",
    "adata = sc.read_10x_mtx(\n",
    "    os.path.join(\n",
    "        save_path, \"filtered_gene_bc_matrices/hg19/\"\n",
    "    ),  # the directory with the `.mtx` file\n",
    "    var_names=\"gene_symbols\",  # use gene symbols for the variable names (variables-axis index)\n",
    ")\n",
    "adata.var_names_make_unique()"
   ]
  },
  {
   "cell_type": "code",
   "execution_count": 8,
   "metadata": {},
   "outputs": [],
   "source": [
    "save_path = \"/lustre/scratch117/cellgen/team205/tpcg/backup/backup_20190401/sc_sclassification/CellTypist/data_repo/MouseAtlas/MouseAtlas.total.h5ad\""
   ]
  },
  {
   "cell_type": "code",
   "execution_count": 34,
   "metadata": {},
   "outputs": [],
   "source": [
    "adata = sc.read_h5ad(save_path)"
   ]
  },
  {
   "cell_type": "code",
   "execution_count": 84,
   "metadata": {},
   "outputs": [
    {
     "data": {
      "text/plain": [
       "(41282, 37878)"
      ]
     },
     "execution_count": 84,
     "metadata": {},
     "output_type": "execute_result"
    }
   ],
   "source": [
    "adata.raw.X.shape"
   ]
  },
  {
   "cell_type": "code",
   "execution_count": 35,
   "metadata": {},
   "outputs": [],
   "source": [
    "adata.var_names_make_unique()\n",
    "adata.obs_names_make_unique()"
   ]
  },
  {
   "cell_type": "code",
   "execution_count": 61,
   "metadata": {},
   "outputs": [
    {
     "data": {
      "text/plain": [
       "Counter({'Lung': 1816,\n",
       "         'Thymus': 404,\n",
       "         'Brain_Microglia': 188,\n",
       "         'Skin': 1177,\n",
       "         'Pancreas': 1311,\n",
       "         'Muscle': 2869,\n",
       "         'Fat': 3060,\n",
       "         'Bladder': 4207,\n",
       "         'Tongue': 4958,\n",
       "         'Marrow': 380,\n",
       "         'Heart': 3843,\n",
       "         'Liver': 1353,\n",
       "         'Trachea': 1093,\n",
       "         'Mammary': 3428,\n",
       "         'Colon': 2138,\n",
       "         'Spleen': 28,\n",
       "         'Kidney': 1475,\n",
       "         'Brain_Neurons': 2658,\n",
       "         'Uterus': 396,\n",
       "         'TrophoblastStemCells': 1,\n",
       "         'Testis': 360,\n",
       "         'Stomach': 128,\n",
       "         'SmallIntestine': 78,\n",
       "         'Placenta': 12,\n",
       "         'Ovary': 182,\n",
       "         'NeontalBrain': 1,\n",
       "         'NeonatalSkin': 15,\n",
       "         'NeonatalRib': 145,\n",
       "         'NeonatalMuscle': 26,\n",
       "         'NeonatalHeart': 10,\n",
       "         'NeonatalCalvaria': 12,\n",
       "         'Mouse3T3': 20,\n",
       "         'MesenchymalStemCellsPrimary': 10,\n",
       "         'MesenchymalStemCells': 6,\n",
       "         'MammaryGland.Virgin': 74,\n",
       "         'MammaryGland.Pregnancy': 137,\n",
       "         'MammaryGland.Involution': 41,\n",
       "         'Male.fetal.Gonad': 2,\n",
       "         'Female.fetal.Gonad': 1,\n",
       "         'Brain': 2765,\n",
       "         'BoneMarrowcKit': 6,\n",
       "         'BoneMarrow': 6,\n",
       "         'C57twocell': 8,\n",
       "         'earlyblast': 19,\n",
       "         'mid2cell': 6,\n",
       "         '8cell': 37,\n",
       "         'midblast': 27,\n",
       "         'lateblast': 17,\n",
       "         '4cell': 13,\n",
       "         '16cell': 19,\n",
       "         'fibroblast': 9,\n",
       "         'late2cell': 1,\n",
       "         'BXC': 6,\n",
       "         'E3.5': 83,\n",
       "         'E4.5': 40,\n",
       "         'E5.5': 120,\n",
       "         'E6.5': 50,\n",
       "         'E6.75': 7})"
      ]
     },
     "execution_count": 61,
     "metadata": {},
     "output_type": "execute_result"
    }
   ],
   "source": [
    "from collections import Counter\n",
    "Counter(adata.obs['Organ'])"
   ]
  },
  {
   "cell_type": "code",
   "execution_count": 37,
   "metadata": {},
   "outputs": [
    {
     "data": {
      "text/plain": [
       "Counter({'Tabula(Plate)': 45959,\n",
       "         'Tabula(Droplet)': 41079,\n",
       "         'MCA': 58809,\n",
       "         'HSC': 61077,\n",
       "         'Embryo': 287,\n",
       "         'Gastrula': 456,\n",
       "         'Brain': 2931,\n",
       "         'Kidney': 39651,\n",
       "         'Thymus': 17441})"
      ]
     },
     "execution_count": 37,
     "metadata": {},
     "output_type": "execute_result"
    }
   ],
   "source": [
    "Counter(adata.obs['Dataset'])"
   ]
  },
  {
   "cell_type": "code",
   "execution_count": 62,
   "metadata": {},
   "outputs": [
    {
     "data": {
      "text/plain": [
       "(41282, 2777)"
      ]
     },
     "execution_count": 62,
     "metadata": {},
     "output_type": "execute_result"
    }
   ],
   "source": [
    "adata.X.shape"
   ]
  },
  {
   "cell_type": "code",
   "execution_count": 63,
   "metadata": {},
   "outputs": [],
   "source": [
    "save_path2 = \"/lustre/scratch117/cellgen/team205/tpcg/human_data/HumanAtlas.h5ad\"\n",
    "\n",
    "adata_human = sc.read_h5ad(save_path2)"
   ]
  },
  {
   "cell_type": "code",
   "execution_count": 66,
   "metadata": {},
   "outputs": [
    {
     "data": {
      "text/html": [
       "<div>\n",
       "<style scoped>\n",
       "    .dataframe tbody tr th:only-of-type {\n",
       "        vertical-align: middle;\n",
       "    }\n",
       "\n",
       "    .dataframe tbody tr th {\n",
       "        vertical-align: top;\n",
       "    }\n",
       "\n",
       "    .dataframe thead th {\n",
       "        text-align: right;\n",
       "    }\n",
       "</style>\n",
       "<table border=\"1\" class=\"dataframe\">\n",
       "  <thead>\n",
       "    <tr style=\"text-align: right;\">\n",
       "      <th>Tissue</th>\n",
       "      <th>Blood</th>\n",
       "      <th>Brain</th>\n",
       "      <th>Brain_Microglia</th>\n",
       "      <th>Colon</th>\n",
       "      <th>Decidua</th>\n",
       "      <th>ES cells</th>\n",
       "      <th>Intestine</th>\n",
       "      <th>Kidney</th>\n",
       "      <th>Liver</th>\n",
       "      <th>Lung Parenchyma</th>\n",
       "      <th>Pancreas</th>\n",
       "      <th>Placenta</th>\n",
       "      <th>Prostate</th>\n",
       "      <th>Skin</th>\n",
       "      <th>Testis</th>\n",
       "      <th>Tumour</th>\n",
       "      <th>Upper airway</th>\n",
       "      <th>Ventral Midbrain</th>\n",
       "      <th>mLN</th>\n",
       "    </tr>\n",
       "    <tr>\n",
       "      <th>Dataset</th>\n",
       "      <th></th>\n",
       "      <th></th>\n",
       "      <th></th>\n",
       "      <th></th>\n",
       "      <th></th>\n",
       "      <th></th>\n",
       "      <th></th>\n",
       "      <th></th>\n",
       "      <th></th>\n",
       "      <th></th>\n",
       "      <th></th>\n",
       "      <th></th>\n",
       "      <th></th>\n",
       "      <th></th>\n",
       "      <th></th>\n",
       "      <th></th>\n",
       "      <th></th>\n",
       "      <th></th>\n",
       "      <th></th>\n",
       "    </tr>\n",
       "  </thead>\n",
       "  <tbody>\n",
       "    <tr>\n",
       "      <th>Baron</th>\n",
       "      <td>0</td>\n",
       "      <td>0</td>\n",
       "      <td>0</td>\n",
       "      <td>0</td>\n",
       "      <td>0</td>\n",
       "      <td>0</td>\n",
       "      <td>0</td>\n",
       "      <td>0</td>\n",
       "      <td>0</td>\n",
       "      <td>0</td>\n",
       "      <td>8569</td>\n",
       "      <td>0</td>\n",
       "      <td>0</td>\n",
       "      <td>0</td>\n",
       "      <td>0</td>\n",
       "      <td>0</td>\n",
       "      <td>0</td>\n",
       "      <td>0</td>\n",
       "      <td>0</td>\n",
       "    </tr>\n",
       "    <tr>\n",
       "      <th>Muraro</th>\n",
       "      <td>0</td>\n",
       "      <td>0</td>\n",
       "      <td>0</td>\n",
       "      <td>0</td>\n",
       "      <td>0</td>\n",
       "      <td>0</td>\n",
       "      <td>0</td>\n",
       "      <td>0</td>\n",
       "      <td>0</td>\n",
       "      <td>0</td>\n",
       "      <td>2126</td>\n",
       "      <td>0</td>\n",
       "      <td>0</td>\n",
       "      <td>0</td>\n",
       "      <td>0</td>\n",
       "      <td>0</td>\n",
       "      <td>0</td>\n",
       "      <td>0</td>\n",
       "      <td>0</td>\n",
       "    </tr>\n",
       "    <tr>\n",
       "      <th>Segerstolpe</th>\n",
       "      <td>0</td>\n",
       "      <td>0</td>\n",
       "      <td>0</td>\n",
       "      <td>0</td>\n",
       "      <td>0</td>\n",
       "      <td>0</td>\n",
       "      <td>0</td>\n",
       "      <td>0</td>\n",
       "      <td>0</td>\n",
       "      <td>0</td>\n",
       "      <td>3363</td>\n",
       "      <td>0</td>\n",
       "      <td>0</td>\n",
       "      <td>0</td>\n",
       "      <td>0</td>\n",
       "      <td>0</td>\n",
       "      <td>0</td>\n",
       "      <td>0</td>\n",
       "      <td>0</td>\n",
       "    </tr>\n",
       "    <tr>\n",
       "      <th>Wang</th>\n",
       "      <td>0</td>\n",
       "      <td>0</td>\n",
       "      <td>0</td>\n",
       "      <td>0</td>\n",
       "      <td>0</td>\n",
       "      <td>0</td>\n",
       "      <td>0</td>\n",
       "      <td>0</td>\n",
       "      <td>0</td>\n",
       "      <td>0</td>\n",
       "      <td>635</td>\n",
       "      <td>0</td>\n",
       "      <td>0</td>\n",
       "      <td>0</td>\n",
       "      <td>0</td>\n",
       "      <td>0</td>\n",
       "      <td>0</td>\n",
       "      <td>0</td>\n",
       "      <td>0</td>\n",
       "    </tr>\n",
       "    <tr>\n",
       "      <th>felipe-lung</th>\n",
       "      <td>0</td>\n",
       "      <td>0</td>\n",
       "      <td>0</td>\n",
       "      <td>0</td>\n",
       "      <td>0</td>\n",
       "      <td>0</td>\n",
       "      <td>0</td>\n",
       "      <td>0</td>\n",
       "      <td>0</td>\n",
       "      <td>19451</td>\n",
       "      <td>0</td>\n",
       "      <td>0</td>\n",
       "      <td>0</td>\n",
       "      <td>0</td>\n",
       "      <td>0</td>\n",
       "      <td>0</td>\n",
       "      <td>6562</td>\n",
       "      <td>0</td>\n",
       "      <td>0</td>\n",
       "    </tr>\n",
       "    <tr>\n",
       "      <th>gierahn17</th>\n",
       "      <td>5584</td>\n",
       "      <td>0</td>\n",
       "      <td>0</td>\n",
       "      <td>0</td>\n",
       "      <td>0</td>\n",
       "      <td>0</td>\n",
       "      <td>0</td>\n",
       "      <td>0</td>\n",
       "      <td>0</td>\n",
       "      <td>0</td>\n",
       "      <td>0</td>\n",
       "      <td>0</td>\n",
       "      <td>0</td>\n",
       "      <td>0</td>\n",
       "      <td>0</td>\n",
       "      <td>0</td>\n",
       "      <td>0</td>\n",
       "      <td>0</td>\n",
       "      <td>0</td>\n",
       "    </tr>\n",
       "    <tr>\n",
       "      <th>guo18</th>\n",
       "      <td>0</td>\n",
       "      <td>0</td>\n",
       "      <td>0</td>\n",
       "      <td>0</td>\n",
       "      <td>0</td>\n",
       "      <td>0</td>\n",
       "      <td>0</td>\n",
       "      <td>0</td>\n",
       "      <td>0</td>\n",
       "      <td>0</td>\n",
       "      <td>0</td>\n",
       "      <td>0</td>\n",
       "      <td>0</td>\n",
       "      <td>0</td>\n",
       "      <td>12985</td>\n",
       "      <td>0</td>\n",
       "      <td>0</td>\n",
       "      <td>0</td>\n",
       "      <td>0</td>\n",
       "    </tr>\n",
       "    <tr>\n",
       "      <th>kylie-colon</th>\n",
       "      <td>0</td>\n",
       "      <td>0</td>\n",
       "      <td>0</td>\n",
       "      <td>21554</td>\n",
       "      <td>0</td>\n",
       "      <td>0</td>\n",
       "      <td>0</td>\n",
       "      <td>0</td>\n",
       "      <td>0</td>\n",
       "      <td>0</td>\n",
       "      <td>0</td>\n",
       "      <td>0</td>\n",
       "      <td>0</td>\n",
       "      <td>0</td>\n",
       "      <td>0</td>\n",
       "      <td>0</td>\n",
       "      <td>0</td>\n",
       "      <td>0</td>\n",
       "      <td>10674</td>\n",
       "    </tr>\n",
       "    <tr>\n",
       "      <th>lamanno16a</th>\n",
       "      <td>0</td>\n",
       "      <td>0</td>\n",
       "      <td>0</td>\n",
       "      <td>0</td>\n",
       "      <td>0</td>\n",
       "      <td>0</td>\n",
       "      <td>0</td>\n",
       "      <td>0</td>\n",
       "      <td>0</td>\n",
       "      <td>0</td>\n",
       "      <td>0</td>\n",
       "      <td>0</td>\n",
       "      <td>0</td>\n",
       "      <td>0</td>\n",
       "      <td>0</td>\n",
       "      <td>0</td>\n",
       "      <td>0</td>\n",
       "      <td>1977</td>\n",
       "      <td>0</td>\n",
       "    </tr>\n",
       "    <tr>\n",
       "      <th>lamanno16b</th>\n",
       "      <td>0</td>\n",
       "      <td>0</td>\n",
       "      <td>0</td>\n",
       "      <td>0</td>\n",
       "      <td>0</td>\n",
       "      <td>1715</td>\n",
       "      <td>0</td>\n",
       "      <td>0</td>\n",
       "      <td>0</td>\n",
       "      <td>0</td>\n",
       "      <td>0</td>\n",
       "      <td>0</td>\n",
       "      <td>0</td>\n",
       "      <td>0</td>\n",
       "      <td>0</td>\n",
       "      <td>0</td>\n",
       "      <td>0</td>\n",
       "      <td>0</td>\n",
       "      <td>0</td>\n",
       "    </tr>\n",
       "    <tr>\n",
       "      <th>li19</th>\n",
       "      <td>0</td>\n",
       "      <td>0</td>\n",
       "      <td>0</td>\n",
       "      <td>0</td>\n",
       "      <td>0</td>\n",
       "      <td>0</td>\n",
       "      <td>1886</td>\n",
       "      <td>0</td>\n",
       "      <td>0</td>\n",
       "      <td>0</td>\n",
       "      <td>0</td>\n",
       "      <td>0</td>\n",
       "      <td>0</td>\n",
       "      <td>0</td>\n",
       "      <td>0</td>\n",
       "      <td>0</td>\n",
       "      <td>0</td>\n",
       "      <td>0</td>\n",
       "      <td>0</td>\n",
       "    </tr>\n",
       "    <tr>\n",
       "      <th>masuda19</th>\n",
       "      <td>0</td>\n",
       "      <td>0</td>\n",
       "      <td>4408</td>\n",
       "      <td>0</td>\n",
       "      <td>0</td>\n",
       "      <td>0</td>\n",
       "      <td>0</td>\n",
       "      <td>0</td>\n",
       "      <td>0</td>\n",
       "      <td>0</td>\n",
       "      <td>0</td>\n",
       "      <td>0</td>\n",
       "      <td>0</td>\n",
       "      <td>0</td>\n",
       "      <td>0</td>\n",
       "      <td>0</td>\n",
       "      <td>0</td>\n",
       "      <td>0</td>\n",
       "      <td>0</td>\n",
       "    </tr>\n",
       "    <tr>\n",
       "      <th>menon18a</th>\n",
       "      <td>0</td>\n",
       "      <td>0</td>\n",
       "      <td>0</td>\n",
       "      <td>0</td>\n",
       "      <td>0</td>\n",
       "      <td>0</td>\n",
       "      <td>0</td>\n",
       "      <td>1998</td>\n",
       "      <td>0</td>\n",
       "      <td>0</td>\n",
       "      <td>0</td>\n",
       "      <td>0</td>\n",
       "      <td>0</td>\n",
       "      <td>0</td>\n",
       "      <td>0</td>\n",
       "      <td>0</td>\n",
       "      <td>0</td>\n",
       "      <td>0</td>\n",
       "      <td>0</td>\n",
       "    </tr>\n",
       "    <tr>\n",
       "      <th>menon18b</th>\n",
       "      <td>0</td>\n",
       "      <td>0</td>\n",
       "      <td>0</td>\n",
       "      <td>0</td>\n",
       "      <td>0</td>\n",
       "      <td>0</td>\n",
       "      <td>0</td>\n",
       "      <td>1845</td>\n",
       "      <td>0</td>\n",
       "      <td>0</td>\n",
       "      <td>0</td>\n",
       "      <td>0</td>\n",
       "      <td>0</td>\n",
       "      <td>0</td>\n",
       "      <td>0</td>\n",
       "      <td>0</td>\n",
       "      <td>0</td>\n",
       "      <td>0</td>\n",
       "      <td>0</td>\n",
       "    </tr>\n",
       "    <tr>\n",
       "      <th>menon18c</th>\n",
       "      <td>0</td>\n",
       "      <td>0</td>\n",
       "      <td>0</td>\n",
       "      <td>0</td>\n",
       "      <td>0</td>\n",
       "      <td>0</td>\n",
       "      <td>0</td>\n",
       "      <td>1997</td>\n",
       "      <td>0</td>\n",
       "      <td>0</td>\n",
       "      <td>0</td>\n",
       "      <td>0</td>\n",
       "      <td>0</td>\n",
       "      <td>0</td>\n",
       "      <td>0</td>\n",
       "      <td>0</td>\n",
       "      <td>0</td>\n",
       "      <td>0</td>\n",
       "      <td>0</td>\n",
       "    </tr>\n",
       "    <tr>\n",
       "      <th>menon18d</th>\n",
       "      <td>0</td>\n",
       "      <td>0</td>\n",
       "      <td>0</td>\n",
       "      <td>0</td>\n",
       "      <td>0</td>\n",
       "      <td>0</td>\n",
       "      <td>0</td>\n",
       "      <td>2000</td>\n",
       "      <td>0</td>\n",
       "      <td>0</td>\n",
       "      <td>0</td>\n",
       "      <td>0</td>\n",
       "      <td>0</td>\n",
       "      <td>0</td>\n",
       "      <td>0</td>\n",
       "      <td>0</td>\n",
       "      <td>0</td>\n",
       "      <td>0</td>\n",
       "      <td>0</td>\n",
       "    </tr>\n",
       "    <tr>\n",
       "      <th>menon18e</th>\n",
       "      <td>0</td>\n",
       "      <td>0</td>\n",
       "      <td>0</td>\n",
       "      <td>0</td>\n",
       "      <td>0</td>\n",
       "      <td>0</td>\n",
       "      <td>0</td>\n",
       "      <td>2000</td>\n",
       "      <td>0</td>\n",
       "      <td>0</td>\n",
       "      <td>0</td>\n",
       "      <td>0</td>\n",
       "      <td>0</td>\n",
       "      <td>0</td>\n",
       "      <td>0</td>\n",
       "      <td>0</td>\n",
       "      <td>0</td>\n",
       "      <td>0</td>\n",
       "      <td>0</td>\n",
       "    </tr>\n",
       "    <tr>\n",
       "      <th>miragaia18</th>\n",
       "      <td>412</td>\n",
       "      <td>0</td>\n",
       "      <td>0</td>\n",
       "      <td>315</td>\n",
       "      <td>0</td>\n",
       "      <td>0</td>\n",
       "      <td>0</td>\n",
       "      <td>0</td>\n",
       "      <td>0</td>\n",
       "      <td>0</td>\n",
       "      <td>0</td>\n",
       "      <td>0</td>\n",
       "      <td>0</td>\n",
       "      <td>441</td>\n",
       "      <td>0</td>\n",
       "      <td>0</td>\n",
       "      <td>0</td>\n",
       "      <td>0</td>\n",
       "      <td>0</td>\n",
       "    </tr>\n",
       "    <tr>\n",
       "      <th>muzz-feotal-liver</th>\n",
       "      <td>0</td>\n",
       "      <td>0</td>\n",
       "      <td>0</td>\n",
       "      <td>0</td>\n",
       "      <td>0</td>\n",
       "      <td>0</td>\n",
       "      <td>0</td>\n",
       "      <td>0</td>\n",
       "      <td>273856</td>\n",
       "      <td>0</td>\n",
       "      <td>0</td>\n",
       "      <td>0</td>\n",
       "      <td>0</td>\n",
       "      <td>0</td>\n",
       "      <td>0</td>\n",
       "      <td>0</td>\n",
       "      <td>0</td>\n",
       "      <td>0</td>\n",
       "      <td>0</td>\n",
       "    </tr>\n",
       "    <tr>\n",
       "      <th>nowakowski17</th>\n",
       "      <td>0</td>\n",
       "      <td>4261</td>\n",
       "      <td>0</td>\n",
       "      <td>0</td>\n",
       "      <td>0</td>\n",
       "      <td>0</td>\n",
       "      <td>0</td>\n",
       "      <td>0</td>\n",
       "      <td>0</td>\n",
       "      <td>0</td>\n",
       "      <td>0</td>\n",
       "      <td>0</td>\n",
       "      <td>0</td>\n",
       "      <td>0</td>\n",
       "      <td>0</td>\n",
       "      <td>0</td>\n",
       "      <td>0</td>\n",
       "      <td>0</td>\n",
       "      <td>0</td>\n",
       "    </tr>\n",
       "    <tr>\n",
       "      <th>sohni19</th>\n",
       "      <td>0</td>\n",
       "      <td>0</td>\n",
       "      <td>0</td>\n",
       "      <td>0</td>\n",
       "      <td>0</td>\n",
       "      <td>0</td>\n",
       "      <td>0</td>\n",
       "      <td>0</td>\n",
       "      <td>0</td>\n",
       "      <td>0</td>\n",
       "      <td>0</td>\n",
       "      <td>0</td>\n",
       "      <td>0</td>\n",
       "      <td>0</td>\n",
       "      <td>34729</td>\n",
       "      <td>0</td>\n",
       "      <td>0</td>\n",
       "      <td>0</td>\n",
       "      <td>0</td>\n",
       "    </tr>\n",
       "    <tr>\n",
       "      <th>strand-prostate0</th>\n",
       "      <td>0</td>\n",
       "      <td>0</td>\n",
       "      <td>0</td>\n",
       "      <td>0</td>\n",
       "      <td>0</td>\n",
       "      <td>0</td>\n",
       "      <td>0</td>\n",
       "      <td>0</td>\n",
       "      <td>0</td>\n",
       "      <td>0</td>\n",
       "      <td>0</td>\n",
       "      <td>0</td>\n",
       "      <td>35865</td>\n",
       "      <td>0</td>\n",
       "      <td>0</td>\n",
       "      <td>0</td>\n",
       "      <td>0</td>\n",
       "      <td>0</td>\n",
       "      <td>0</td>\n",
       "    </tr>\n",
       "    <tr>\n",
       "      <th>strand-prostate17</th>\n",
       "      <td>0</td>\n",
       "      <td>0</td>\n",
       "      <td>0</td>\n",
       "      <td>0</td>\n",
       "      <td>0</td>\n",
       "      <td>0</td>\n",
       "      <td>0</td>\n",
       "      <td>0</td>\n",
       "      <td>0</td>\n",
       "      <td>0</td>\n",
       "      <td>0</td>\n",
       "      <td>0</td>\n",
       "      <td>32941</td>\n",
       "      <td>0</td>\n",
       "      <td>0</td>\n",
       "      <td>0</td>\n",
       "      <td>0</td>\n",
       "      <td>0</td>\n",
       "      <td>0</td>\n",
       "    </tr>\n",
       "    <tr>\n",
       "      <th>strand-prostate27</th>\n",
       "      <td>0</td>\n",
       "      <td>0</td>\n",
       "      <td>0</td>\n",
       "      <td>0</td>\n",
       "      <td>0</td>\n",
       "      <td>0</td>\n",
       "      <td>0</td>\n",
       "      <td>0</td>\n",
       "      <td>0</td>\n",
       "      <td>0</td>\n",
       "      <td>0</td>\n",
       "      <td>0</td>\n",
       "      <td>40255</td>\n",
       "      <td>0</td>\n",
       "      <td>0</td>\n",
       "      <td>0</td>\n",
       "      <td>0</td>\n",
       "      <td>0</td>\n",
       "      <td>0</td>\n",
       "    </tr>\n",
       "    <tr>\n",
       "      <th>vento18</th>\n",
       "      <td>11266</td>\n",
       "      <td>0</td>\n",
       "      <td>0</td>\n",
       "      <td>0</td>\n",
       "      <td>40512</td>\n",
       "      <td>0</td>\n",
       "      <td>0</td>\n",
       "      <td>0</td>\n",
       "      <td>0</td>\n",
       "      <td>0</td>\n",
       "      <td>0</td>\n",
       "      <td>18547</td>\n",
       "      <td>0</td>\n",
       "      <td>0</td>\n",
       "      <td>0</td>\n",
       "      <td>0</td>\n",
       "      <td>0</td>\n",
       "      <td>0</td>\n",
       "      <td>0</td>\n",
       "    </tr>\n",
       "    <tr>\n",
       "      <th>young18</th>\n",
       "      <td>0</td>\n",
       "      <td>0</td>\n",
       "      <td>0</td>\n",
       "      <td>0</td>\n",
       "      <td>0</td>\n",
       "      <td>0</td>\n",
       "      <td>0</td>\n",
       "      <td>48347</td>\n",
       "      <td>0</td>\n",
       "      <td>0</td>\n",
       "      <td>0</td>\n",
       "      <td>0</td>\n",
       "      <td>0</td>\n",
       "      <td>0</td>\n",
       "      <td>0</td>\n",
       "      <td>0</td>\n",
       "      <td>0</td>\n",
       "      <td>0</td>\n",
       "      <td>0</td>\n",
       "    </tr>\n",
       "    <tr>\n",
       "      <th>zhang18</th>\n",
       "      <td>3352</td>\n",
       "      <td>0</td>\n",
       "      <td>0</td>\n",
       "      <td>2637</td>\n",
       "      <td>0</td>\n",
       "      <td>0</td>\n",
       "      <td>0</td>\n",
       "      <td>0</td>\n",
       "      <td>0</td>\n",
       "      <td>0</td>\n",
       "      <td>0</td>\n",
       "      <td>0</td>\n",
       "      <td>0</td>\n",
       "      <td>0</td>\n",
       "      <td>0</td>\n",
       "      <td>5149</td>\n",
       "      <td>0</td>\n",
       "      <td>0</td>\n",
       "      <td>0</td>\n",
       "    </tr>\n",
       "    <tr>\n",
       "      <th>zheng17</th>\n",
       "      <td>163234</td>\n",
       "      <td>0</td>\n",
       "      <td>0</td>\n",
       "      <td>0</td>\n",
       "      <td>0</td>\n",
       "      <td>0</td>\n",
       "      <td>0</td>\n",
       "      <td>0</td>\n",
       "      <td>0</td>\n",
       "      <td>0</td>\n",
       "      <td>0</td>\n",
       "      <td>0</td>\n",
       "      <td>0</td>\n",
       "      <td>0</td>\n",
       "      <td>0</td>\n",
       "      <td>0</td>\n",
       "      <td>0</td>\n",
       "      <td>0</td>\n",
       "      <td>0</td>\n",
       "    </tr>\n",
       "  </tbody>\n",
       "</table>\n",
       "</div>"
      ],
      "text/plain": [
       "Tissue              Blood  Brain  Brain_Microglia  Colon  Decidua  ES cells  \\\n",
       "Dataset                                                                       \n",
       "Baron                   0      0                0      0        0         0   \n",
       "Muraro                  0      0                0      0        0         0   \n",
       "Segerstolpe             0      0                0      0        0         0   \n",
       "Wang                    0      0                0      0        0         0   \n",
       "felipe-lung             0      0                0      0        0         0   \n",
       "gierahn17            5584      0                0      0        0         0   \n",
       "guo18                   0      0                0      0        0         0   \n",
       "kylie-colon             0      0                0  21554        0         0   \n",
       "lamanno16a              0      0                0      0        0         0   \n",
       "lamanno16b              0      0                0      0        0      1715   \n",
       "li19                    0      0                0      0        0         0   \n",
       "masuda19                0      0             4408      0        0         0   \n",
       "menon18a                0      0                0      0        0         0   \n",
       "menon18b                0      0                0      0        0         0   \n",
       "menon18c                0      0                0      0        0         0   \n",
       "menon18d                0      0                0      0        0         0   \n",
       "menon18e                0      0                0      0        0         0   \n",
       "miragaia18            412      0                0    315        0         0   \n",
       "muzz-feotal-liver       0      0                0      0        0         0   \n",
       "nowakowski17            0   4261                0      0        0         0   \n",
       "sohni19                 0      0                0      0        0         0   \n",
       "strand-prostate0        0      0                0      0        0         0   \n",
       "strand-prostate17       0      0                0      0        0         0   \n",
       "strand-prostate27       0      0                0      0        0         0   \n",
       "vento18             11266      0                0      0    40512         0   \n",
       "young18                 0      0                0      0        0         0   \n",
       "zhang18              3352      0                0   2637        0         0   \n",
       "zheng17            163234      0                0      0        0         0   \n",
       "\n",
       "Tissue             Intestine  Kidney   Liver  Lung Parenchyma  Pancreas  \\\n",
       "Dataset                                                                   \n",
       "Baron                      0       0       0                0      8569   \n",
       "Muraro                     0       0       0                0      2126   \n",
       "Segerstolpe                0       0       0                0      3363   \n",
       "Wang                       0       0       0                0       635   \n",
       "felipe-lung                0       0       0            19451         0   \n",
       "gierahn17                  0       0       0                0         0   \n",
       "guo18                      0       0       0                0         0   \n",
       "kylie-colon                0       0       0                0         0   \n",
       "lamanno16a                 0       0       0                0         0   \n",
       "lamanno16b                 0       0       0                0         0   \n",
       "li19                    1886       0       0                0         0   \n",
       "masuda19                   0       0       0                0         0   \n",
       "menon18a                   0    1998       0                0         0   \n",
       "menon18b                   0    1845       0                0         0   \n",
       "menon18c                   0    1997       0                0         0   \n",
       "menon18d                   0    2000       0                0         0   \n",
       "menon18e                   0    2000       0                0         0   \n",
       "miragaia18                 0       0       0                0         0   \n",
       "muzz-feotal-liver          0       0  273856                0         0   \n",
       "nowakowski17               0       0       0                0         0   \n",
       "sohni19                    0       0       0                0         0   \n",
       "strand-prostate0           0       0       0                0         0   \n",
       "strand-prostate17          0       0       0                0         0   \n",
       "strand-prostate27          0       0       0                0         0   \n",
       "vento18                    0       0       0                0         0   \n",
       "young18                    0   48347       0                0         0   \n",
       "zhang18                    0       0       0                0         0   \n",
       "zheng17                    0       0       0                0         0   \n",
       "\n",
       "Tissue             Placenta  Prostate  Skin  Testis  Tumour  Upper airway  \\\n",
       "Dataset                                                                     \n",
       "Baron                     0         0     0       0       0             0   \n",
       "Muraro                    0         0     0       0       0             0   \n",
       "Segerstolpe               0         0     0       0       0             0   \n",
       "Wang                      0         0     0       0       0             0   \n",
       "felipe-lung               0         0     0       0       0          6562   \n",
       "gierahn17                 0         0     0       0       0             0   \n",
       "guo18                     0         0     0   12985       0             0   \n",
       "kylie-colon               0         0     0       0       0             0   \n",
       "lamanno16a                0         0     0       0       0             0   \n",
       "lamanno16b                0         0     0       0       0             0   \n",
       "li19                      0         0     0       0       0             0   \n",
       "masuda19                  0         0     0       0       0             0   \n",
       "menon18a                  0         0     0       0       0             0   \n",
       "menon18b                  0         0     0       0       0             0   \n",
       "menon18c                  0         0     0       0       0             0   \n",
       "menon18d                  0         0     0       0       0             0   \n",
       "menon18e                  0         0     0       0       0             0   \n",
       "miragaia18                0         0   441       0       0             0   \n",
       "muzz-feotal-liver         0         0     0       0       0             0   \n",
       "nowakowski17              0         0     0       0       0             0   \n",
       "sohni19                   0         0     0   34729       0             0   \n",
       "strand-prostate0          0     35865     0       0       0             0   \n",
       "strand-prostate17         0     32941     0       0       0             0   \n",
       "strand-prostate27         0     40255     0       0       0             0   \n",
       "vento18               18547         0     0       0       0             0   \n",
       "young18                   0         0     0       0       0             0   \n",
       "zhang18                   0         0     0       0    5149             0   \n",
       "zheng17                   0         0     0       0       0             0   \n",
       "\n",
       "Tissue             Ventral Midbrain    mLN  \n",
       "Dataset                                     \n",
       "Baron                             0      0  \n",
       "Muraro                            0      0  \n",
       "Segerstolpe                       0      0  \n",
       "Wang                              0      0  \n",
       "felipe-lung                       0      0  \n",
       "gierahn17                         0      0  \n",
       "guo18                             0      0  \n",
       "kylie-colon                       0  10674  \n",
       "lamanno16a                     1977      0  \n",
       "lamanno16b                        0      0  \n",
       "li19                              0      0  \n",
       "masuda19                          0      0  \n",
       "menon18a                          0      0  \n",
       "menon18b                          0      0  \n",
       "menon18c                          0      0  \n",
       "menon18d                          0      0  \n",
       "menon18e                          0      0  \n",
       "miragaia18                        0      0  \n",
       "muzz-feotal-liver                 0      0  \n",
       "nowakowski17                      0      0  \n",
       "sohni19                           0      0  \n",
       "strand-prostate0                  0      0  \n",
       "strand-prostate17                 0      0  \n",
       "strand-prostate27                 0      0  \n",
       "vento18                           0      0  \n",
       "young18                           0      0  \n",
       "zhang18                           0      0  \n",
       "zheng17                           0      0  "
      ]
     },
     "execution_count": 66,
     "metadata": {},
     "output_type": "execute_result"
    }
   ],
   "source": [
    "pd.crosstab(adata_human.obs['Dataset'], adata_human.obs['Tissue'])"
   ]
  },
  {
   "cell_type": "code",
   "execution_count": 73,
   "metadata": {},
   "outputs": [
    {
     "data": {
      "text/html": [
       "<div>\n",
       "<style scoped>\n",
       "    .dataframe tbody tr th:only-of-type {\n",
       "        vertical-align: middle;\n",
       "    }\n",
       "\n",
       "    .dataframe tbody tr th {\n",
       "        vertical-align: top;\n",
       "    }\n",
       "\n",
       "    .dataframe thead th {\n",
       "        text-align: right;\n",
       "    }\n",
       "</style>\n",
       "<table border=\"1\" class=\"dataframe\">\n",
       "  <thead>\n",
       "    <tr style=\"text-align: right;\">\n",
       "      <th></th>\n",
       "      <th>Barcodes</th>\n",
       "      <th>Dataset</th>\n",
       "      <th>Barcode</th>\n",
       "      <th>Tissue</th>\n",
       "      <th>CellType</th>\n",
       "      <th>Protocol</th>\n",
       "      <th>DonorType</th>\n",
       "      <th>Other</th>\n",
       "      <th>n_counts</th>\n",
       "      <th>leiden</th>\n",
       "    </tr>\n",
       "    <tr>\n",
       "      <th>index</th>\n",
       "      <th></th>\n",
       "      <th></th>\n",
       "      <th></th>\n",
       "      <th></th>\n",
       "      <th></th>\n",
       "      <th></th>\n",
       "      <th></th>\n",
       "      <th></th>\n",
       "      <th></th>\n",
       "      <th></th>\n",
       "    </tr>\n",
       "  </thead>\n",
       "  <tbody>\n",
       "    <tr>\n",
       "      <th>ARMS032_AACCATGCAATAACGA-felipe-lung</th>\n",
       "      <td>ARMS032_AACCATGCAATAACGA-felipe-lung</td>\n",
       "      <td>felipe-lung</td>\n",
       "      <td>ARMS032_AACCATGCAATAACGA-felipe-lung</td>\n",
       "      <td>Upper airway</td>\n",
       "      <td>Secretory</td>\n",
       "      <td>10X</td>\n",
       "      <td>biopsy</td>\n",
       "      <td>Ctrl</td>\n",
       "      <td>10969.0</td>\n",
       "      <td>4</td>\n",
       "    </tr>\n",
       "    <tr>\n",
       "      <th>ARMS032_ACACCCTCAGGTGCCT-felipe-lung</th>\n",
       "      <td>ARMS032_ACACCCTCAGGTGCCT-felipe-lung</td>\n",
       "      <td>felipe-lung</td>\n",
       "      <td>ARMS032_ACACCCTCAGGTGCCT-felipe-lung</td>\n",
       "      <td>Upper airway</td>\n",
       "      <td>Neutrophils</td>\n",
       "      <td>10X</td>\n",
       "      <td>biopsy</td>\n",
       "      <td>Ctrl</td>\n",
       "      <td>31608.0</td>\n",
       "      <td>4</td>\n",
       "    </tr>\n",
       "    <tr>\n",
       "      <th>ARMS032_ACATGGTAGGCAATTA-felipe-lung</th>\n",
       "      <td>ARMS032_ACATGGTAGGCAATTA-felipe-lung</td>\n",
       "      <td>felipe-lung</td>\n",
       "      <td>ARMS032_ACATGGTAGGCAATTA-felipe-lung</td>\n",
       "      <td>Upper airway</td>\n",
       "      <td>Secretory</td>\n",
       "      <td>10X</td>\n",
       "      <td>biopsy</td>\n",
       "      <td>Ctrl</td>\n",
       "      <td>38928.0</td>\n",
       "      <td>4</td>\n",
       "    </tr>\n",
       "    <tr>\n",
       "      <th>ARMS032_ACTTACTAGTTTGCGT-felipe-lung</th>\n",
       "      <td>ARMS032_ACTTACTAGTTTGCGT-felipe-lung</td>\n",
       "      <td>felipe-lung</td>\n",
       "      <td>ARMS032_ACTTACTAGTTTGCGT-felipe-lung</td>\n",
       "      <td>Upper airway</td>\n",
       "      <td>Secretory</td>\n",
       "      <td>10X</td>\n",
       "      <td>biopsy</td>\n",
       "      <td>Ctrl</td>\n",
       "      <td>20231.0</td>\n",
       "      <td>4</td>\n",
       "    </tr>\n",
       "    <tr>\n",
       "      <th>ARMS032_AGTAGTCCATATGAGA-felipe-lung</th>\n",
       "      <td>ARMS032_AGTAGTCCATATGAGA-felipe-lung</td>\n",
       "      <td>felipe-lung</td>\n",
       "      <td>ARMS032_AGTAGTCCATATGAGA-felipe-lung</td>\n",
       "      <td>Upper airway</td>\n",
       "      <td>Secretory</td>\n",
       "      <td>10X</td>\n",
       "      <td>biopsy</td>\n",
       "      <td>Ctrl</td>\n",
       "      <td>28352.0</td>\n",
       "      <td>4</td>\n",
       "    </tr>\n",
       "  </tbody>\n",
       "</table>\n",
       "</div>"
      ],
      "text/plain": [
       "                                                                  Barcodes  \\\n",
       "index                                                                        \n",
       "ARMS032_AACCATGCAATAACGA-felipe-lung  ARMS032_AACCATGCAATAACGA-felipe-lung   \n",
       "ARMS032_ACACCCTCAGGTGCCT-felipe-lung  ARMS032_ACACCCTCAGGTGCCT-felipe-lung   \n",
       "ARMS032_ACATGGTAGGCAATTA-felipe-lung  ARMS032_ACATGGTAGGCAATTA-felipe-lung   \n",
       "ARMS032_ACTTACTAGTTTGCGT-felipe-lung  ARMS032_ACTTACTAGTTTGCGT-felipe-lung   \n",
       "ARMS032_AGTAGTCCATATGAGA-felipe-lung  ARMS032_AGTAGTCCATATGAGA-felipe-lung   \n",
       "\n",
       "                                          Dataset  \\\n",
       "index                                               \n",
       "ARMS032_AACCATGCAATAACGA-felipe-lung  felipe-lung   \n",
       "ARMS032_ACACCCTCAGGTGCCT-felipe-lung  felipe-lung   \n",
       "ARMS032_ACATGGTAGGCAATTA-felipe-lung  felipe-lung   \n",
       "ARMS032_ACTTACTAGTTTGCGT-felipe-lung  felipe-lung   \n",
       "ARMS032_AGTAGTCCATATGAGA-felipe-lung  felipe-lung   \n",
       "\n",
       "                                                                   Barcode  \\\n",
       "index                                                                        \n",
       "ARMS032_AACCATGCAATAACGA-felipe-lung  ARMS032_AACCATGCAATAACGA-felipe-lung   \n",
       "ARMS032_ACACCCTCAGGTGCCT-felipe-lung  ARMS032_ACACCCTCAGGTGCCT-felipe-lung   \n",
       "ARMS032_ACATGGTAGGCAATTA-felipe-lung  ARMS032_ACATGGTAGGCAATTA-felipe-lung   \n",
       "ARMS032_ACTTACTAGTTTGCGT-felipe-lung  ARMS032_ACTTACTAGTTTGCGT-felipe-lung   \n",
       "ARMS032_AGTAGTCCATATGAGA-felipe-lung  ARMS032_AGTAGTCCATATGAGA-felipe-lung   \n",
       "\n",
       "                                            Tissue     CellType Protocol  \\\n",
       "index                                                                      \n",
       "ARMS032_AACCATGCAATAACGA-felipe-lung  Upper airway    Secretory      10X   \n",
       "ARMS032_ACACCCTCAGGTGCCT-felipe-lung  Upper airway  Neutrophils      10X   \n",
       "ARMS032_ACATGGTAGGCAATTA-felipe-lung  Upper airway    Secretory      10X   \n",
       "ARMS032_ACTTACTAGTTTGCGT-felipe-lung  Upper airway    Secretory      10X   \n",
       "ARMS032_AGTAGTCCATATGAGA-felipe-lung  Upper airway    Secretory      10X   \n",
       "\n",
       "                                     DonorType Other  n_counts leiden  \n",
       "index                                                                  \n",
       "ARMS032_AACCATGCAATAACGA-felipe-lung    biopsy  Ctrl   10969.0      4  \n",
       "ARMS032_ACACCCTCAGGTGCCT-felipe-lung    biopsy  Ctrl   31608.0      4  \n",
       "ARMS032_ACATGGTAGGCAATTA-felipe-lung    biopsy  Ctrl   38928.0      4  \n",
       "ARMS032_ACTTACTAGTTTGCGT-felipe-lung    biopsy  Ctrl   20231.0      4  \n",
       "ARMS032_AGTAGTCCATATGAGA-felipe-lung    biopsy  Ctrl   28352.0      4  "
      ]
     },
     "execution_count": 73,
     "metadata": {},
     "output_type": "execute_result"
    }
   ],
   "source": [
    "adata_human.obs[\"CellType\"].value_counts()"
   ]
  },
  {
   "cell_type": "code",
   "execution_count": 74,
   "metadata": {},
   "outputs": [
    {
     "data": {
      "text/html": [
       "<div>\n",
       "<style scoped>\n",
       "    .dataframe tbody tr th:only-of-type {\n",
       "        vertical-align: middle;\n",
       "    }\n",
       "\n",
       "    .dataframe tbody tr th {\n",
       "        vertical-align: top;\n",
       "    }\n",
       "\n",
       "    .dataframe thead th {\n",
       "        text-align: right;\n",
       "    }\n",
       "</style>\n",
       "<table border=\"1\" class=\"dataframe\">\n",
       "  <thead>\n",
       "    <tr style=\"text-align: right;\">\n",
       "      <th></th>\n",
       "      <th>Barcodes</th>\n",
       "      <th>Dataset</th>\n",
       "      <th>Barcode</th>\n",
       "      <th>Tissue</th>\n",
       "      <th>CellType</th>\n",
       "      <th>Protocol</th>\n",
       "      <th>DonorType</th>\n",
       "      <th>Other</th>\n",
       "      <th>n_counts</th>\n",
       "      <th>leiden</th>\n",
       "    </tr>\n",
       "    <tr>\n",
       "      <th>index</th>\n",
       "      <th></th>\n",
       "      <th></th>\n",
       "      <th></th>\n",
       "      <th></th>\n",
       "      <th></th>\n",
       "      <th></th>\n",
       "      <th></th>\n",
       "      <th></th>\n",
       "      <th></th>\n",
       "      <th></th>\n",
       "    </tr>\n",
       "  </thead>\n",
       "  <tbody>\n",
       "    <tr>\n",
       "      <th>ARMS032_AACCATGCAATAACGA-felipe-lung</th>\n",
       "      <td>ARMS032_AACCATGCAATAACGA-felipe-lung</td>\n",
       "      <td>felipe-lung</td>\n",
       "      <td>ARMS032_AACCATGCAATAACGA-felipe-lung</td>\n",
       "      <td>Upper airway</td>\n",
       "      <td>Secretory</td>\n",
       "      <td>10X</td>\n",
       "      <td>biopsy</td>\n",
       "      <td>Ctrl</td>\n",
       "      <td>10969.0</td>\n",
       "      <td>4</td>\n",
       "    </tr>\n",
       "    <tr>\n",
       "      <th>ARMS032_ACACCCTCAGGTGCCT-felipe-lung</th>\n",
       "      <td>ARMS032_ACACCCTCAGGTGCCT-felipe-lung</td>\n",
       "      <td>felipe-lung</td>\n",
       "      <td>ARMS032_ACACCCTCAGGTGCCT-felipe-lung</td>\n",
       "      <td>Upper airway</td>\n",
       "      <td>Neutrophils</td>\n",
       "      <td>10X</td>\n",
       "      <td>biopsy</td>\n",
       "      <td>Ctrl</td>\n",
       "      <td>31608.0</td>\n",
       "      <td>4</td>\n",
       "    </tr>\n",
       "    <tr>\n",
       "      <th>ARMS032_ACATGGTAGGCAATTA-felipe-lung</th>\n",
       "      <td>ARMS032_ACATGGTAGGCAATTA-felipe-lung</td>\n",
       "      <td>felipe-lung</td>\n",
       "      <td>ARMS032_ACATGGTAGGCAATTA-felipe-lung</td>\n",
       "      <td>Upper airway</td>\n",
       "      <td>Secretory</td>\n",
       "      <td>10X</td>\n",
       "      <td>biopsy</td>\n",
       "      <td>Ctrl</td>\n",
       "      <td>38928.0</td>\n",
       "      <td>4</td>\n",
       "    </tr>\n",
       "    <tr>\n",
       "      <th>ARMS032_ACTTACTAGTTTGCGT-felipe-lung</th>\n",
       "      <td>ARMS032_ACTTACTAGTTTGCGT-felipe-lung</td>\n",
       "      <td>felipe-lung</td>\n",
       "      <td>ARMS032_ACTTACTAGTTTGCGT-felipe-lung</td>\n",
       "      <td>Upper airway</td>\n",
       "      <td>Secretory</td>\n",
       "      <td>10X</td>\n",
       "      <td>biopsy</td>\n",
       "      <td>Ctrl</td>\n",
       "      <td>20231.0</td>\n",
       "      <td>4</td>\n",
       "    </tr>\n",
       "    <tr>\n",
       "      <th>ARMS032_AGTAGTCCATATGAGA-felipe-lung</th>\n",
       "      <td>ARMS032_AGTAGTCCATATGAGA-felipe-lung</td>\n",
       "      <td>felipe-lung</td>\n",
       "      <td>ARMS032_AGTAGTCCATATGAGA-felipe-lung</td>\n",
       "      <td>Upper airway</td>\n",
       "      <td>Secretory</td>\n",
       "      <td>10X</td>\n",
       "      <td>biopsy</td>\n",
       "      <td>Ctrl</td>\n",
       "      <td>28352.0</td>\n",
       "      <td>4</td>\n",
       "    </tr>\n",
       "  </tbody>\n",
       "</table>\n",
       "</div>"
      ],
      "text/plain": [
       "                                                                  Barcodes  \\\n",
       "index                                                                        \n",
       "ARMS032_AACCATGCAATAACGA-felipe-lung  ARMS032_AACCATGCAATAACGA-felipe-lung   \n",
       "ARMS032_ACACCCTCAGGTGCCT-felipe-lung  ARMS032_ACACCCTCAGGTGCCT-felipe-lung   \n",
       "ARMS032_ACATGGTAGGCAATTA-felipe-lung  ARMS032_ACATGGTAGGCAATTA-felipe-lung   \n",
       "ARMS032_ACTTACTAGTTTGCGT-felipe-lung  ARMS032_ACTTACTAGTTTGCGT-felipe-lung   \n",
       "ARMS032_AGTAGTCCATATGAGA-felipe-lung  ARMS032_AGTAGTCCATATGAGA-felipe-lung   \n",
       "\n",
       "                                          Dataset  \\\n",
       "index                                               \n",
       "ARMS032_AACCATGCAATAACGA-felipe-lung  felipe-lung   \n",
       "ARMS032_ACACCCTCAGGTGCCT-felipe-lung  felipe-lung   \n",
       "ARMS032_ACATGGTAGGCAATTA-felipe-lung  felipe-lung   \n",
       "ARMS032_ACTTACTAGTTTGCGT-felipe-lung  felipe-lung   \n",
       "ARMS032_AGTAGTCCATATGAGA-felipe-lung  felipe-lung   \n",
       "\n",
       "                                                                   Barcode  \\\n",
       "index                                                                        \n",
       "ARMS032_AACCATGCAATAACGA-felipe-lung  ARMS032_AACCATGCAATAACGA-felipe-lung   \n",
       "ARMS032_ACACCCTCAGGTGCCT-felipe-lung  ARMS032_ACACCCTCAGGTGCCT-felipe-lung   \n",
       "ARMS032_ACATGGTAGGCAATTA-felipe-lung  ARMS032_ACATGGTAGGCAATTA-felipe-lung   \n",
       "ARMS032_ACTTACTAGTTTGCGT-felipe-lung  ARMS032_ACTTACTAGTTTGCGT-felipe-lung   \n",
       "ARMS032_AGTAGTCCATATGAGA-felipe-lung  ARMS032_AGTAGTCCATATGAGA-felipe-lung   \n",
       "\n",
       "                                            Tissue     CellType Protocol  \\\n",
       "index                                                                      \n",
       "ARMS032_AACCATGCAATAACGA-felipe-lung  Upper airway    Secretory      10X   \n",
       "ARMS032_ACACCCTCAGGTGCCT-felipe-lung  Upper airway  Neutrophils      10X   \n",
       "ARMS032_ACATGGTAGGCAATTA-felipe-lung  Upper airway    Secretory      10X   \n",
       "ARMS032_ACTTACTAGTTTGCGT-felipe-lung  Upper airway    Secretory      10X   \n",
       "ARMS032_AGTAGTCCATATGAGA-felipe-lung  Upper airway    Secretory      10X   \n",
       "\n",
       "                                     DonorType Other  n_counts leiden  \n",
       "index                                                                  \n",
       "ARMS032_AACCATGCAATAACGA-felipe-lung    biopsy  Ctrl   10969.0      4  \n",
       "ARMS032_ACACCCTCAGGTGCCT-felipe-lung    biopsy  Ctrl   31608.0      4  \n",
       "ARMS032_ACATGGTAGGCAATTA-felipe-lung    biopsy  Ctrl   38928.0      4  \n",
       "ARMS032_ACTTACTAGTTTGCGT-felipe-lung    biopsy  Ctrl   20231.0      4  \n",
       "ARMS032_AGTAGTCCATATGAGA-felipe-lung    biopsy  Ctrl   28352.0      4  "
      ]
     },
     "execution_count": 74,
     "metadata": {},
     "output_type": "execute_result"
    }
   ],
   "source": [
    "adata_human.obs.head()"
   ]
  },
  {
   "cell_type": "code",
   "execution_count": 77,
   "metadata": {},
   "outputs": [
    {
     "data": {
      "text/html": [
       "<div>\n",
       "<style scoped>\n",
       "    .dataframe tbody tr th:only-of-type {\n",
       "        vertical-align: middle;\n",
       "    }\n",
       "\n",
       "    .dataframe tbody tr th {\n",
       "        vertical-align: top;\n",
       "    }\n",
       "\n",
       "    .dataframe thead th {\n",
       "        text-align: right;\n",
       "    }\n",
       "</style>\n",
       "<table border=\"1\" class=\"dataframe\">\n",
       "  <thead>\n",
       "    <tr style=\"text-align: right;\">\n",
       "      <th></th>\n",
       "      <th>gene_name</th>\n",
       "    </tr>\n",
       "    <tr>\n",
       "      <th>index</th>\n",
       "      <th></th>\n",
       "    </tr>\n",
       "  </thead>\n",
       "  <tbody>\n",
       "    <tr>\n",
       "      <th>MIR1302-2HG</th>\n",
       "      <td>MIR1302-2HG</td>\n",
       "    </tr>\n",
       "    <tr>\n",
       "      <th>FAM138A</th>\n",
       "      <td>FAM138A</td>\n",
       "    </tr>\n",
       "    <tr>\n",
       "      <th>OR4F5</th>\n",
       "      <td>OR4F5</td>\n",
       "    </tr>\n",
       "    <tr>\n",
       "      <th>RP11-34P13.7</th>\n",
       "      <td>RP11-34P13.7</td>\n",
       "    </tr>\n",
       "    <tr>\n",
       "      <th>RP11-34P13.8</th>\n",
       "      <td>RP11-34P13.8</td>\n",
       "    </tr>\n",
       "  </tbody>\n",
       "</table>\n",
       "</div>"
      ],
      "text/plain": [
       "                 gene_name\n",
       "index                     \n",
       "MIR1302-2HG    MIR1302-2HG\n",
       "FAM138A            FAM138A\n",
       "OR4F5                OR4F5\n",
       "RP11-34P13.7  RP11-34P13.7\n",
       "RP11-34P13.8  RP11-34P13.8"
      ]
     },
     "execution_count": 77,
     "metadata": {},
     "output_type": "execute_result"
    }
   ],
   "source": [
    "adata_human.raw.var.head()"
   ]
  },
  {
   "cell_type": "code",
   "execution_count": 79,
   "metadata": {},
   "outputs": [],
   "source": [
    "sc.tl.leiden(adata, resolution = 1.5)"
   ]
  },
  {
   "cell_type": "code",
   "execution_count": 83,
   "metadata": {},
   "outputs": [
    {
     "data": {
      "text/plain": [
       "<827448x65104 sparse matrix of type '<class 'numpy.float32'>'\n",
       "\twith 1534508369 stored elements in Compressed Sparse Column format>"
      ]
     },
     "execution_count": 83,
     "metadata": {},
     "output_type": "execute_result"
    }
   ],
   "source": [
    "adata_human.raw.X"
   ]
  },
  {
   "cell_type": "markdown",
   "metadata": {
    "pycharm": {}
   },
   "source": [
    "## Preprocessing"
   ]
  },
  {
   "cell_type": "markdown",
   "metadata": {
    "pycharm": {}
   },
   "source": [
    "In the following section, we reproduce the preprocessing steps adopted in the scanpy notebook. \n",
    "\n",
    "\n",
    "Basic filtering: we remove cells with a low number of genes expressed and genes which are expressed in a low number of cells."
   ]
  },
  {
   "cell_type": "code",
   "execution_count": 44,
   "metadata": {},
   "outputs": [],
   "source": [
    "min_genes = if_not_test_else(200, 0)\n",
    "min_cells = if_not_test_else(20, 0)"
   ]
  },
  {
   "cell_type": "code",
   "execution_count": 45,
   "metadata": {
    "pycharm": {}
   },
   "outputs": [
    {
     "name": "stdout",
     "output_type": "stream",
     "text": [
      "filtered out 14 genes that are detected in less than 20 cells\n"
     ]
    }
   ],
   "source": [
    "sc.settings.verbosity = 2\n",
    "sc.pp.filter_cells(adata, min_genes=min_genes)\n",
    "sc.pp.filter_genes(adata, min_cells=min_cells)\n",
    "sc.pp.filter_cells(adata, min_genes=1)"
   ]
  },
  {
   "cell_type": "code",
   "execution_count": 52,
   "metadata": {},
   "outputs": [
    {
     "data": {
      "text/plain": [
       "(41282, 2777)"
      ]
     },
     "execution_count": 52,
     "metadata": {},
     "output_type": "execute_result"
    }
   ],
   "source": [
    "adata.shape"
   ]
  },
  {
   "cell_type": "markdown",
   "metadata": {
    "pycharm": {}
   },
   "source": [
    "As in the scanpy notebook, we then look for high levels of mitochondrial genes and high number of expressed genes which are indicators of poor quality cells."
   ]
  },
  {
   "cell_type": "markdown",
   "metadata": {
    "pycharm": {}
   },
   "source": [
    "#### Non applicable step\n",
    "mito_genes = adata.var_names.str.startswith(\"MT-\")\n",
    "adata.obs[\"percent_mito\"] = (\n",
    "    np.sum(adata[:, mito_genes].X, axis=1).A1 / np.sum(adata.X, axis=1).A1\n",
    ")\n",
    "adata.obs[\"n_counts\"] = adata.X.sum(axis=1).A1"
   ]
  },
  {
   "cell_type": "code",
   "execution_count": 48,
   "metadata": {
    "pycharm": {}
   },
   "outputs": [],
   "source": [
    "adata = adata[adata.obs[\"n_genes\"] < 2500, :]"
   ]
  },
  {
   "cell_type": "markdown",
   "metadata": {},
   "source": [
    "adata = adata[adata.obs[\"percent_mito\"] < 0.05, :]"
   ]
  },
  {
   "cell_type": "markdown",
   "metadata": {
    "pycharm": {}
   },
   "source": [
    "## ⚠ scVI uses non normalized data so we keep the original data in a separate `AnnData` object, then the normalization steps are performed"
   ]
  },
  {
   "cell_type": "markdown",
   "metadata": {
    "pycharm": {}
   },
   "source": [
    "#####  Normalization and more filtering\n",
    "\n",
    "We only keep highly variable genes"
   ]
  },
  {
   "cell_type": "code",
   "execution_count": 50,
   "metadata": {
    "pycharm": {}
   },
   "outputs": [
    {
     "name": "stdout",
     "output_type": "stream",
     "text": [
      "filtered out 3128 cells that have less than 1 counts\n"
     ]
    },
    {
     "name": "stderr",
     "output_type": "stream",
     "text": [
      "/nfs/users/nfs_z/zx3/.local/share/virtualenvs/zx3-X4JBQrLp/lib/python3.7/site-packages/scanpy/preprocessing/_simple.py:288: RuntimeWarning: divide by zero encountered in log1p\n",
      "  np.log1p(X, out=X)\n",
      "/nfs/users/nfs_z/zx3/.local/share/virtualenvs/zx3-X4JBQrLp/lib/python3.7/site-packages/scanpy/preprocessing/_simple.py:288: RuntimeWarning: invalid value encountered in log1p\n",
      "  np.log1p(X, out=X)\n"
     ]
    }
   ],
   "source": [
    "adata_original = adata.copy()\n",
    "\n",
    "sc.pp.normalize_per_cell(adata, counts_per_cell_after=1e4)\n",
    "sc.pp.log1p(adata)\n",
    "\n"
   ]
  },
  {
   "cell_type": "code",
   "execution_count": 54,
   "metadata": {},
   "outputs": [
    {
     "data": {
      "text/plain": [
       "array([[-0.08209129, -0.06849433, -0.02150778, ..., -0.09477201,\n",
       "         0.6100729 ,  1.1633312 ],\n",
       "       [-0.08209129, -0.06849433, -0.02150778, ..., -0.09477201,\n",
       "         0.08112828, -0.1112038 ],\n",
       "       [-0.08209129, -0.06849433, -0.02150778, ..., -0.09477201,\n",
       "        -0.06557146, -0.1112038 ],\n",
       "       ...,\n",
       "       [-0.08209129, -0.06849433, -0.02150778, ..., -0.09477201,\n",
       "        -0.7475515 , -0.1112038 ],\n",
       "       [-0.08209129, -0.06849433, -0.02150778, ..., -0.09477201,\n",
       "        -0.7475515 , -0.1112038 ],\n",
       "       [-0.08209129, -0.06849433, -0.02150778, ...,  4.2228007 ,\n",
       "        -0.7475515 , -0.1112038 ]], dtype=float32)"
      ]
     },
     "execution_count": 54,
     "metadata": {},
     "output_type": "execute_result"
    }
   ],
   "source": [
    "adata_original.X\n"
   ]
  },
  {
   "cell_type": "code",
   "execution_count": 51,
   "metadata": {},
   "outputs": [
    {
     "ename": "ValueError",
     "evalue": "Bin edges must be unique: array([nan, nan, nan, nan, nan, nan, nan, nan, nan, nan, nan, nan, nan,\n       nan, nan, nan, nan, nan, nan, nan, nan]).\nYou can drop duplicate edges by setting the 'duplicates' kwarg",
     "output_type": "error",
     "traceback": [
      "\u001b[0;31m---------------------------------------------------------------------------\u001b[0m",
      "\u001b[0;31mValueError\u001b[0m                                Traceback (most recent call last)",
      "\u001b[0;32m<ipython-input-51-efb3cc48b36f>\u001b[0m in \u001b[0;36m<module>\u001b[0;34m\u001b[0m\n\u001b[1;32m     10\u001b[0m     \u001b[0mmax_mean\u001b[0m\u001b[0;34m=\u001b[0m\u001b[0mmax_mean\u001b[0m\u001b[0;34m,\u001b[0m\u001b[0;34m\u001b[0m\u001b[0;34m\u001b[0m\u001b[0m\n\u001b[1;32m     11\u001b[0m     \u001b[0mmin_disp\u001b[0m\u001b[0;34m=\u001b[0m\u001b[0mmin_disp\u001b[0m\u001b[0;34m,\u001b[0m\u001b[0;34m\u001b[0m\u001b[0;34m\u001b[0m\u001b[0m\n\u001b[0;32m---> 12\u001b[0;31m     \u001b[0mmax_disp\u001b[0m\u001b[0;34m=\u001b[0m\u001b[0mmax_disp\u001b[0m\u001b[0;34m\u001b[0m\u001b[0;34m\u001b[0m\u001b[0m\n\u001b[0m\u001b[1;32m     13\u001b[0m     \u001b[0;31m# n_top_genes=500\u001b[0m\u001b[0;34m\u001b[0m\u001b[0;34m\u001b[0m\u001b[0;34m\u001b[0m\u001b[0m\n\u001b[1;32m     14\u001b[0m )\n",
      "\u001b[0;32m~/.local/share/virtualenvs/zx3-X4JBQrLp/lib/python3.7/site-packages/scanpy/preprocessing/_highly_variable_genes.py\u001b[0m in \u001b[0;36mhighly_variable_genes\u001b[0;34m(adata, min_disp, max_disp, min_mean, max_mean, n_top_genes, n_bins, flavor, subset, inplace)\u001b[0m\n\u001b[1;32m    108\u001b[0m     \u001b[0mdf\u001b[0m\u001b[0;34m[\u001b[0m\u001b[0;34m'dispersion'\u001b[0m\u001b[0;34m]\u001b[0m \u001b[0;34m=\u001b[0m \u001b[0mdispersion\u001b[0m\u001b[0;34m\u001b[0m\u001b[0;34m\u001b[0m\u001b[0m\n\u001b[1;32m    109\u001b[0m     \u001b[0;32mif\u001b[0m \u001b[0mflavor\u001b[0m \u001b[0;34m==\u001b[0m \u001b[0;34m'seurat'\u001b[0m\u001b[0;34m:\u001b[0m\u001b[0;34m\u001b[0m\u001b[0;34m\u001b[0m\u001b[0m\n\u001b[0;32m--> 110\u001b[0;31m         \u001b[0mdf\u001b[0m\u001b[0;34m[\u001b[0m\u001b[0;34m'mean_bin'\u001b[0m\u001b[0;34m]\u001b[0m \u001b[0;34m=\u001b[0m \u001b[0mpd\u001b[0m\u001b[0;34m.\u001b[0m\u001b[0mcut\u001b[0m\u001b[0;34m(\u001b[0m\u001b[0mdf\u001b[0m\u001b[0;34m[\u001b[0m\u001b[0;34m'mean'\u001b[0m\u001b[0;34m]\u001b[0m\u001b[0;34m,\u001b[0m \u001b[0mbins\u001b[0m\u001b[0;34m=\u001b[0m\u001b[0mn_bins\u001b[0m\u001b[0;34m)\u001b[0m\u001b[0;34m\u001b[0m\u001b[0;34m\u001b[0m\u001b[0m\n\u001b[0m\u001b[1;32m    111\u001b[0m         \u001b[0mdisp_grouped\u001b[0m \u001b[0;34m=\u001b[0m \u001b[0mdf\u001b[0m\u001b[0;34m.\u001b[0m\u001b[0mgroupby\u001b[0m\u001b[0;34m(\u001b[0m\u001b[0;34m'mean_bin'\u001b[0m\u001b[0;34m)\u001b[0m\u001b[0;34m[\u001b[0m\u001b[0;34m'dispersion'\u001b[0m\u001b[0;34m]\u001b[0m\u001b[0;34m\u001b[0m\u001b[0;34m\u001b[0m\u001b[0m\n\u001b[1;32m    112\u001b[0m         \u001b[0mdisp_mean_bin\u001b[0m \u001b[0;34m=\u001b[0m \u001b[0mdisp_grouped\u001b[0m\u001b[0;34m.\u001b[0m\u001b[0mmean\u001b[0m\u001b[0;34m(\u001b[0m\u001b[0;34m)\u001b[0m\u001b[0;34m\u001b[0m\u001b[0;34m\u001b[0m\u001b[0m\n",
      "\u001b[0;32m~/.local/share/virtualenvs/zx3-X4JBQrLp/lib/python3.7/site-packages/pandas/core/reshape/tile.py\u001b[0m in \u001b[0;36mcut\u001b[0;34m(x, bins, right, labels, retbins, precision, include_lowest, duplicates)\u001b[0m\n\u001b[1;32m    239\u001b[0m                               \u001b[0minclude_lowest\u001b[0m\u001b[0;34m=\u001b[0m\u001b[0minclude_lowest\u001b[0m\u001b[0;34m,\u001b[0m\u001b[0;34m\u001b[0m\u001b[0;34m\u001b[0m\u001b[0m\n\u001b[1;32m    240\u001b[0m                               \u001b[0mdtype\u001b[0m\u001b[0;34m=\u001b[0m\u001b[0mdtype\u001b[0m\u001b[0;34m,\u001b[0m\u001b[0;34m\u001b[0m\u001b[0;34m\u001b[0m\u001b[0m\n\u001b[0;32m--> 241\u001b[0;31m                               duplicates=duplicates)\n\u001b[0m\u001b[1;32m    242\u001b[0m \u001b[0;34m\u001b[0m\u001b[0m\n\u001b[1;32m    243\u001b[0m     return _postprocess_for_cut(fac, bins, retbins, x_is_series,\n",
      "\u001b[0;32m~/.local/share/virtualenvs/zx3-X4JBQrLp/lib/python3.7/site-packages/pandas/core/reshape/tile.py\u001b[0m in \u001b[0;36m_bins_to_cuts\u001b[0;34m(x, bins, right, labels, precision, include_lowest, dtype, duplicates)\u001b[0m\n\u001b[1;32m    337\u001b[0m             raise ValueError(\"Bin edges must be unique: {bins!r}.\\nYou \"\n\u001b[1;32m    338\u001b[0m                              \u001b[0;34m\"can drop duplicate edges by setting \"\u001b[0m\u001b[0;34m\u001b[0m\u001b[0;34m\u001b[0m\u001b[0m\n\u001b[0;32m--> 339\u001b[0;31m                              \"the 'duplicates' kwarg\".format(bins=bins))\n\u001b[0m\u001b[1;32m    340\u001b[0m         \u001b[0;32melse\u001b[0m\u001b[0;34m:\u001b[0m\u001b[0;34m\u001b[0m\u001b[0;34m\u001b[0m\u001b[0m\n\u001b[1;32m    341\u001b[0m             \u001b[0mbins\u001b[0m \u001b[0;34m=\u001b[0m \u001b[0munique_bins\u001b[0m\u001b[0;34m\u001b[0m\u001b[0;34m\u001b[0m\u001b[0m\n",
      "\u001b[0;31mValueError\u001b[0m: Bin edges must be unique: array([nan, nan, nan, nan, nan, nan, nan, nan, nan, nan, nan, nan, nan,\n       nan, nan, nan, nan, nan, nan, nan, nan]).\nYou can drop duplicate edges by setting the 'duplicates' kwarg"
     ]
    }
   ],
   "source": [
    "\n",
    "min_mean = if_not_test_else(0.0125, -np.inf)\n",
    "max_mean = if_not_test_else(3, np.inf)\n",
    "min_disp = if_not_test_else(0.5, -np.inf)\n",
    "max_disp = if_not_test_else(None, np.inf)\n",
    "\n",
    "sc.pp.highly_variable_genes(\n",
    "    adata,\n",
    "    min_mean=min_mean,\n",
    "    max_mean=max_mean,\n",
    "    min_disp=min_disp,\n",
    "    max_disp=max_disp\n",
    "    # n_top_genes=500\n",
    ")\n"
   ]
  },
  {
   "cell_type": "code",
   "execution_count": null,
   "metadata": {},
   "outputs": [],
   "source": [
    "\n",
    "adata.raw = adata\n",
    "\n",
    "highly_variable_genes = adata.var[\"highly_variable\"]\n",
    "adata = adata[:, highly_variable_genes]\n",
    "\n",
    "sc.pp.regress_out(adata, [\"n_counts\", \"percent_mito\"])\n",
    "sc.pp.scale(adata, max_value=10)\n",
    "\n",
    "# Also filter the original adata genes\n",
    "adata_original = adata_original[:, highly_variable_genes]\n",
    "print(highly_variable_genes.sum())\n",
    "\n",
    "# We also store adata_original into adata.raw\n",
    "# (which was designed for this purpose but actually has limited functionnalities)\n",
    "adata.raw = adata_original"
   ]
  },
  {
   "cell_type": "markdown",
   "metadata": {
    "pycharm": {}
   },
   "source": [
    "## Compute the scVI latent space"
   ]
  },
  {
   "cell_type": "markdown",
   "metadata": {
    "pycharm": {}
   },
   "source": [
    "Below we provide then use a wrapper function designed to compute scVI's latent representation of the non-normalized data. Specifically, we train scVI's VAE, compute and store the latent representation then return the posterior which will later be used for further inference."
   ]
  },
  {
   "cell_type": "code",
   "execution_count": 3,
   "metadata": {},
   "outputs": [],
   "source": [
    "\n",
    "from scvi.dataset.anndata import AnnDataset\n",
    "from scvi.inference import UnsupervisedTrainer\n",
    "from scvi.models.vae import VAE\n",
    "from typing import Tuple"
   ]
  },
  {
   "cell_type": "code",
   "execution_count": null,
   "metadata": {
    "pycharm": {}
   },
   "outputs": [],
   "source": [
    "def compute_scvi_latent(\n",
    "    adata: sc.AnnData,\n",
    "    n_latent: int = 5,\n",
    "    n_epochs: int = 100,\n",
    "    lr: float = 1e-3,\n",
    "    use_batches: bool = False,\n",
    "    use_cuda: bool = False,\n",
    ") -> Tuple[scvi.inference.Posterior, np.ndarray]:\n",
    "    \"\"\"Train and return a scVI model and sample a latent space\n",
    "    \n",
    "    :param adata: sc.AnnData object non-normalized\n",
    "    :param n_latent: dimension of the latent space\n",
    "    :param n_epochs: number of training epochs\n",
    "    :param lr: learning rate\n",
    "    :param use_batches\n",
    "    :param use_cuda\n",
    "    :return: (scvi.Posterior, latent_space)\n",
    "    \"\"\"\n",
    "    # Convert easily to scvi dataset\n",
    "    scviDataset = AnnDataset(adata)\n",
    "\n",
    "    # Train a model\n",
    "    vae = VAE(\n",
    "        scviDataset.nb_genes,\n",
    "        n_batch=scviDataset.n_batches * use_batches,\n",
    "        n_latent=n_latent,\n",
    "    )\n",
    "    trainer = UnsupervisedTrainer(vae, scviDataset, train_size=1.0, use_cuda=use_cuda)\n",
    "    trainer.train(n_epochs=n_epochs, lr=lr)\n",
    "    ####\n",
    "\n",
    "    # Extract latent space\n",
    "    posterior = trainer.create_posterior(\n",
    "        trainer.model, scviDataset, indices=np.arange(len(scviDataset))\n",
    "    ).sequential()\n",
    "\n",
    "    latent, _, _ = posterior.get_latent()\n",
    "\n",
    "    return posterior, latent"
   ]
  },
  {
   "cell_type": "code",
   "execution_count": null,
   "metadata": {
    "pycharm": {}
   },
   "outputs": [],
   "source": [
    "n_epochs = 10 if n_epochs_all is None else n_epochs_all\n",
    "\n",
    "scvi_posterior, scvi_latent = compute_scvi_latent(\n",
    "    adata_original, n_epochs=n_epochs, n_latent=6, use_cuda = True\n",
    ")\n",
    "adata.obsm[\"X_scvi\"] = scvi_latent"
   ]
  },
  {
   "cell_type": "markdown",
   "metadata": {
    "pycharm": {}
   },
   "source": [
    "## Principal component analysis to reproduce ScanPy results and compare them against scVI's\n",
    "\n",
    "Below, we reproduce exactly scanpy's PCA on normalized data."
   ]
  },
  {
   "cell_type": "code",
   "execution_count": null,
   "metadata": {
    "pycharm": {}
   },
   "outputs": [],
   "source": [
    "sc.tl.pca(adata, svd_solver=\"arpack\")"
   ]
  },
  {
   "cell_type": "code",
   "execution_count": null,
   "metadata": {
    "pycharm": {}
   },
   "outputs": [],
   "source": [
    "sc.pl.pca(adata, color=\"CST3\")"
   ]
  },
  {
   "cell_type": "code",
   "execution_count": null,
   "metadata": {
    "pycharm": {}
   },
   "outputs": [],
   "source": [
    "sc.pl.pca_variance_ratio(adata, log=True)"
   ]
  },
  {
   "cell_type": "markdown",
   "metadata": {
    "pycharm": {}
   },
   "source": [
    "## Computing, embedding and clustering the neighborhood graph"
   ]
  },
  {
   "cell_type": "markdown",
   "metadata": {
    "pycharm": {}
   },
   "source": [
    "The Scanpy API computes a neighborhood graph with `sc.pp.neighbors` which can be called to work on a specific representation `use_rep='your rep'`.\n",
    "Once the neighbors graph has been computed, all Scanpy algorithms working on it can be called as usual (that is *louvain*, *paga*, *umap* ...)"
   ]
  },
  {
   "cell_type": "markdown",
   "metadata": {
    "pycharm": {}
   },
   "source": [
    "### Using PCA representation (Scanpy tutorial)"
   ]
  },
  {
   "cell_type": "code",
   "execution_count": null,
   "metadata": {
    "pycharm": {}
   },
   "outputs": [],
   "source": [
    "sc.pp.neighbors(adata, n_neighbors=10, n_pcs=40)\n",
    "sc.tl.louvain(adata, key_added=\"louvain_pca\")\n",
    "sc.tl.umap(adata)"
   ]
  },
  {
   "cell_type": "code",
   "execution_count": null,
   "metadata": {
    "pycharm": {}
   },
   "outputs": [],
   "source": [
    "sc.pl.umap(adata, color=[\"louvain_pca\", \"CST3\", \"NKG7\", \"MS4A1\"], ncols=4)"
   ]
  },
  {
   "cell_type": "markdown",
   "metadata": {
    "pycharm": {}
   },
   "source": [
    "### Using scVI latent space representation"
   ]
  },
  {
   "cell_type": "code",
   "execution_count": null,
   "metadata": {
    "pycharm": {}
   },
   "outputs": [],
   "source": [
    "sc.pp.neighbors(adata, n_neighbors=20, n_pcs=40, use_rep=\"X_scvi\")\n",
    "sc.tl.umap(adata)"
   ]
  },
  {
   "cell_type": "code",
   "execution_count": null,
   "metadata": {
    "pycharm": {},
    "scrolled": true
   },
   "outputs": [],
   "source": [
    "sc.tl.louvain(adata, key_added=\"louvain_scvi\", resolution=0.7)"
   ]
  },
  {
   "cell_type": "code",
   "execution_count": null,
   "metadata": {
    "pycharm": {}
   },
   "outputs": [],
   "source": [
    "sc.pl.umap(adata, color=[\"louvain_scvi\", \"CST3\", \"NKG7\", \"MS4A1\"], ncols=4)"
   ]
  },
  {
   "cell_type": "markdown",
   "metadata": {
    "pycharm": {}
   },
   "source": [
    "## Finding marker genes"
   ]
  },
  {
   "cell_type": "markdown",
   "metadata": {
    "pycharm": {}
   },
   "source": [
    "ScanPy tries to determine marker genes using a *t-test* and a *Wilcoxon* test.\n",
    "\n",
    "For the same task, from scVI's trained VAE model we can sample the gene expression rate for each gene in each cell. For the two populations of interest, we can then randomly sample pairs of cells, one from each population to compare their expression rate for a gene. The degree of **differential expression** is measured by logit($\\frac{p}{1-p}$) (Bayes Factor) where $p$ is the probability of a cell from population $A$ having a higher expression than a cell from population $B$. We can form the null distribution of the DE values by sampling pairs randomly from the combined population.\n",
    "\n",
    "Below, we provide a wrapper around scVI's differential expression process. Specifically, it computes the average of the Bayes factor where population $A$ covers each cluster in `adata.obs[label_name]` and is compared with the aggregate formed by all the other clusters."
   ]
  },
  {
   "cell_type": "code",
   "execution_count": null,
   "metadata": {
    "hideOutput": true,
    "pycharm": {}
   },
   "outputs": [],
   "source": [
    "def rank_genes_groups_bayes(\n",
    "    adata: sc.AnnData,\n",
    "    scvi_posterior: scvi.inference.Posterior,\n",
    "    n_samples: int = None,\n",
    "    M_permutation: int = None,\n",
    "    n_genes: int = 25,\n",
    "    label_name: str = \"louvain_scvi\",\n",
    ") -> pd.DataFrame:\n",
    "    \"\"\"\n",
    "    Rank genes for characterizing groups. \n",
    "    Computes Bayes factor for each cluster against the others to test for differential expression.\n",
    "    See Nature article (https://rdcu.be/bdHYQ)\n",
    "\n",
    "    :param adata: sc.AnnData object non-normalized\n",
    "    :param scvi_posterior: \n",
    "    :param n_samples: \n",
    "    :param M_permutation: \n",
    "    :param n_genes: \n",
    "    :param label_name: The groups tested are taken from adata.obs[label_name] which can be computed \n",
    "                       using clustering like Louvain (Ex: sc.tl.louvain(adata, key_added=label_name) )\n",
    "    :return: Summary of Bayes factor per gene, per cluster\n",
    "    \"\"\"\n",
    "\n",
    "    # Call scvi function\n",
    "    per_cluster_de, cluster_id = scvi_posterior.one_vs_all_degenes(\n",
    "        cell_labels=np.asarray(adata.obs[label_name].values).astype(int).ravel(),\n",
    "        min_cells=1,\n",
    "        n_samples=n_samples,\n",
    "        M_permutation=M_permutation,\n",
    "    )\n",
    "\n",
    "    # convert to ScanPy format -- this is just about feeding scvi results into a format readable by ScanPy\n",
    "    markers = []\n",
    "    scores = []\n",
    "    names = []\n",
    "    for i, x in enumerate(per_cluster_de):\n",
    "        subset_de = x[:n_genes]\n",
    "        markers.append(subset_de)\n",
    "        scores.append(tuple(subset_de[\"bayes1\"].values))\n",
    "        names.append(tuple(subset_de.index.values))\n",
    "\n",
    "    markers = pd.concat(markers)\n",
    "    dtypes_scores = [(str(i), \"<f4\") for i in range(len(scores))]\n",
    "    dtypes_names = [(str(i), \"<U50\") for i in range(len(names))]\n",
    "    scores = np.array([tuple(row) for row in np.array(scores).T], dtype=dtypes_scores)\n",
    "    scores = scores.view(np.recarray)\n",
    "    names = np.array([tuple(row) for row in np.array(names).T], dtype=dtypes_names)\n",
    "    names = names.view(np.recarray)\n",
    "\n",
    "    adata.uns[\"rank_genes_groups_scvi\"] = {\n",
    "        \"params\": {\n",
    "            \"groupby\": \"\",\n",
    "            \"reference\": \"rest\",\n",
    "            \"method\": \"\",\n",
    "            \"use_raw\": True,\n",
    "            \"corr_method\": \"\",\n",
    "        },\n",
    "        \"scores\": scores,\n",
    "        \"names\": names,\n",
    "    }\n",
    "    return markers"
   ]
  },
  {
   "cell_type": "markdown",
   "metadata": {
    "pycharm": {}
   },
   "source": [
    "### Use a t-test on scvi_clusters like in the ScanPy tutorial"
   ]
  },
  {
   "cell_type": "code",
   "execution_count": null,
   "metadata": {
    "pycharm": {},
    "scrolled": false
   },
   "outputs": [],
   "source": [
    "n_genes = 20\n",
    "sc.tl.rank_genes_groups(\n",
    "    adata,\n",
    "    \"louvain_scvi\",\n",
    "    method=\"t-test\",\n",
    "    use_raw=False,\n",
    "    key_added=\"rank_genes_groups_ttest\",\n",
    "    n_genes=n_genes,\n",
    ")\n",
    "sc.tl.rank_genes_groups(\n",
    "    adata,\n",
    "    \"louvain_scvi\",\n",
    "    method=\"wilcoxon\",\n",
    "    use_raw=False,\n",
    "    key_added=\"rank_genes_groups_wilcox\",\n",
    "    n_genes=n_genes,\n",
    ")\n",
    "sc.pl.rank_genes_groups(\n",
    "    adata, key=\"rank_genes_groups_ttest\", sharey=False, n_genes=n_genes\n",
    ")\n",
    "sc.pl.rank_genes_groups(\n",
    "    adata, key=\"rank_genes_groups_wilcox\", sharey=False, n_genes=n_genes\n",
    ")"
   ]
  },
  {
   "cell_type": "markdown",
   "metadata": {
    "pycharm": {}
   },
   "source": [
    "### Use differential expression from the scVI posterior"
   ]
  },
  {
   "cell_type": "code",
   "execution_count": null,
   "metadata": {
    "pycharm": {},
    "scrolled": true
   },
   "outputs": [],
   "source": [
    "rank_genes_groups_bayes(\n",
    "    adata, scvi_posterior, label_name=\"louvain_scvi\", n_genes=n_genes\n",
    ")\n",
    "sc.pl.rank_genes_groups(\n",
    "    adata, key=\"rank_genes_groups_scvi\", sharey=False, n_genes=n_genes\n",
    ")"
   ]
  },
  {
   "cell_type": "markdown",
   "metadata": {
    "pycharm": {}
   },
   "source": [
    "### Measure similarity between *scVI differential expression*, *t-test* and *wilcoxon-test*"
   ]
  },
  {
   "cell_type": "code",
   "execution_count": null,
   "metadata": {
    "pycharm": {}
   },
   "outputs": [],
   "source": [
    "# We compute the rank of every gene to perform analysis after\n",
    "all_genes = len(adata.var_names)\n",
    "\n",
    "sc.tl.rank_genes_groups(adata, 'louvain_scvi', method='t-test',   use_raw=False, key_added='rank_genes_groups_ttest',  n_genes=all_genes)\n",
    "sc.tl.rank_genes_groups(adata, 'louvain_scvi', method='wilcoxon', use_raw=False, key_added='rank_genes_groups_wilcox', n_genes=all_genes)\n",
    "differential_expression = rank_genes_groups_bayes(adata, scvi_posterior, label_name='louvain_scvi', n_genes=all_genes)"
   ]
  },
  {
   "cell_type": "code",
   "execution_count": null,
   "metadata": {
    "pycharm": {}
   },
   "outputs": [],
   "source": [
    "def ratio(A, B):\n",
    "    A, B = set(A), set(B)\n",
    "    return len(A.intersection(B)) / len(A) * 100"
   ]
  },
  {
   "cell_type": "code",
   "execution_count": null,
   "metadata": {
    "pycharm": {}
   },
   "outputs": [],
   "source": [
    "cluster_distrib = adata.obs.groupby(\"louvain_scvi\").count()[\"n_genes\"]"
   ]
  },
  {
   "cell_type": "markdown",
   "metadata": {},
   "source": [
    "For each cluster, we compute the percentage of genes which are in the `n_genes` most expressed  genes of both Scanpy's and scVI's differential expression tests."
   ]
  },
  {
   "cell_type": "code",
   "execution_count": null,
   "metadata": {
    "pycharm": {}
   },
   "outputs": [],
   "source": [
    "n_genes = 25\n",
    "\n",
    "sc.pl.umap(adata, color=[\"louvain_scvi\"], ncols=1)\n",
    "for c in cluster_distrib.index:\n",
    "    print(\n",
    "        \"Cluster %s (%d cells): t-test / wilcox %6.2f %%  & t-test / scvi %6.2f %%\"\n",
    "        % (\n",
    "            c,\n",
    "            cluster_distrib[c],\n",
    "            ratio(\n",
    "                adata.uns[\"rank_genes_groups_ttest\"][\"names\"][c][:n_genes],\n",
    "                adata.uns[\"rank_genes_groups_wilcox\"][\"names\"][c][:n_genes],\n",
    "            ),\n",
    "            ratio(\n",
    "                adata.uns[\"rank_genes_groups_ttest\"][\"names\"][c][:n_genes],\n",
    "                adata.uns[\"rank_genes_groups_scvi\"][\"names\"][c][:n_genes],\n",
    "            ),\n",
    "        )\n",
    "    )"
   ]
  },
  {
   "cell_type": "markdown",
   "metadata": {
    "pycharm": {}
   },
   "source": [
    "## Plot px_scale for most expressed genes and less expressed genes by cluster"
   ]
  },
  {
   "cell_type": "markdown",
   "metadata": {
    "pycharm": {}
   },
   "source": [
    "Sample the scale for all the data (all genes, cells), average on multiple samples\n",
    "\n",
    "``` python\n",
    "scale = scvi_posterior.get_sample_scale()\n",
    "for _ in range(9):\n",
    "    scale += scvi_posterior.get_sample_scale()\n",
    "scale /= 10\n",
    "\n",
    "for gene, gene_scale in zip(adata.var.index, np.squeeze(scale).T):\n",
    "    adata.obs[\"scale_\" + gene] = gene_scale\n",
    "    \n",
    "```\n",
    "\n",
    "This is not tractable for large dataset so we provide another function below"
   ]
  },
  {
   "cell_type": "markdown",
   "metadata": {},
   "source": [
    "### The code below doesn't work"
   ]
  },
  {
   "cell_type": "raw",
   "metadata": {},
   "source": [
    "from typing import List\n",
    "\n",
    "\n",
    "def get_scales_per_gene(\n",
    "    gene_names: List[str],\n",
    "    adata: sc.AnnData,\n",
    "    scvi_posterior: scvi.inference.Posterior,\n",
    "    n_samples: int = 10,\n",
    "    batchsize: int = 32,\n",
    "):\n",
    "    \"\"\"Get imputed values for each gene in gene_names - for each cell in adata. Performed inplace.\n",
    "    Scales are added in adata.obs under the alias 'scale_' + gene_name.\n",
    "    \n",
    "    This function handles very large dataset thanks to batch size control\n",
    "\n",
    "    Args:\n",
    "        gene_names: list of gene names\n",
    "        adata: scRNAseq dataset\n",
    "        posterior: scVI Posterior object\n",
    "        n_samples: number of samples to average on\n",
    "        batchsize: for computation: number of cells to query in each iteration\n",
    "    \"\"\"\n",
    "    all_gene_names = list(scvi_posterior.gene_dataset.gene_names)\n",
    "    gene_idx = [all_gene_names.index(g) for g in gene_names]\n",
    "    ashape = scvi_posterior.gene_dataset.X.shape\n",
    "    px_scales = np.zeros((len(gene_names), n_samples, ashape[0]))\n",
    "    for idx in range(int(ashape[0] / batchsize)):\n",
    "        current_slice = slice(idx * batchsize, (idx + 1) * batchsize)\n",
    "        px_scales_batch = scvi_posterior.model.get_sample_scale(\n",
    "            torch.from_numpy(scvi_posterior.gene_dataset.X[current_slice]),\n",
    "            n_samples=n_samples,\n",
    "        )\n",
    "        px_scales[:, :, current_slice] = np.transpose(\n",
    "            px_scales_batch.detach().numpy()[:, :, gene_idx], (2, 0, 1)\n",
    "        )\n",
    "    for name, scales in zip(gene_names, px_scales):\n",
    "        adata.obs[\"scale_\" + name] = scales.mean(axis=0)"
   ]
  },
  {
   "cell_type": "code",
   "execution_count": null,
   "metadata": {},
   "outputs": [],
   "source": [
    "from typing import List\n",
    "\n",
    "\n",
    "def get_scales_per_gene(\n",
    "    gene_names: List[str],\n",
    "    adata: sc.AnnData,\n",
    "    scvi_posterior: scvi.inference.Posterior,\n",
    "    n_samples: int = 10,\n",
    "    batchsize: int = 32,\n",
    "):\n",
    "    \"\"\"Get imputed values for each gene in gene_names - for each cell in adata. Performed inplace.\n",
    "    Scales are added in adata.obs under the alias 'scale_' + gene_name.\n",
    "    \n",
    "    This function handles very large dataset thanks to batch size control\n",
    "\n",
    "    Args:\n",
    "        gene_names: list of gene names\n",
    "        adata: scRNAseq dataset\n",
    "        posterior: scVI Posterior object\n",
    "        n_samples: number of samples to average on\n",
    "        batchsize: for computation: number of cells to query in each iteration\n",
    "    \"\"\"\n",
    "    all_gene_names = list(scvi_posterior.gene_dataset.gene_names)\n",
    "    gene_idx = [all_gene_names.index(g) for g in gene_names]\n",
    "    ashape = scvi_posterior.gene_dataset.X.shape\n",
    "    px_scales = np.zeros((len(gene_names), n_samples, ashape[0]))\n",
    "\n",
    "    for idx in range(int(ashape[0] / batchsize)):\n",
    "        current_slice = slice(idx * batchsize, (idx + 1) * batchsize)\n",
    "        x = torch.tensor(scvi_posterior.gene_dataset.X[current_slice], device=\"cuda\")\n",
    "        px_scales_batch = scvi_posterior.model.get_sample_scale(\n",
    "            x,\n",
    "            n_samples=n_samples\n",
    "        )\n",
    "        px_scales[:, :, current_slice] = np.transpose(\n",
    "            px_scales_batch.detach().to(\"cpu\").numpy()[:, :, gene_idx], (2, 0, 1)\n",
    "        )\n",
    "for name, scales in zip(gene_names, px_scales):\n",
    "    adata.obs[\"scale_\" + name] = scales.mean(axis=0)\n",
    "    for name, scales in zip(gene_names, px_scales):\n",
    "        adata.obs[\"scale_\" + name] = scales.mean(axis=0)"
   ]
  },
  {
   "cell_type": "markdown",
   "metadata": {},
   "source": [
    "#### Most differentialy expressed genes"
   ]
  },
  {
   "cell_type": "code",
   "execution_count": null,
   "metadata": {
    "pycharm": {}
   },
   "outputs": [],
   "source": [
    "cluster_id = 2\n",
    "n_best_genes = 10\n",
    "gene_names = differential_expression[\n",
    "    differential_expression[\"clusters\"] == cluster_id\n",
    "].index.tolist()[:n_best_genes]\n",
    "gene_names"
   ]
  },
  {
   "cell_type": "code",
   "execution_count": null,
   "metadata": {},
   "outputs": [],
   "source": [
    "get_scales_per_gene(gene_names, adata, scvi_posterior)"
   ]
  },
  {
   "cell_type": "code",
   "execution_count": null,
   "metadata": {
    "pycharm": {},
    "scrolled": true
   },
   "outputs": [],
   "source": [
    "print(\"Top genes for cluster %d\" % cluster_id)\n",
    "sc.pl.umap(adata, color=[\"louvain_scvi\"] + [\"scale_\" + g for g in gene_names], ncols=3)"
   ]
  },
  {
   "cell_type": "markdown",
   "metadata": {},
   "source": [
    "#### Less differentialy expressed genes"
   ]
  },
  {
   "cell_type": "code",
   "execution_count": null,
   "metadata": {
    "pycharm": {}
   },
   "outputs": [],
   "source": [
    "cluster_id = 2\n",
    "n_best_genes = 10\n",
    "gene_names = differential_expression[\n",
    "    differential_expression[\"clusters\"] == cluster_id\n",
    "].index.tolist()[-n_best_genes:]\n",
    "gene_names"
   ]
  },
  {
   "cell_type": "code",
   "execution_count": null,
   "metadata": {},
   "outputs": [],
   "source": [
    "get_scales_per_gene(gene_names, adata, scvi_posterior)"
   ]
  },
  {
   "cell_type": "code",
   "execution_count": null,
   "metadata": {
    "pycharm": {},
    "scrolled": false
   },
   "outputs": [],
   "source": [
    "print(\"Top down regulated genes for cluster %d\" % cluster_id)\n",
    "sc.pl.umap(adata, color=[\"louvain_scvi\"] + [\"scale_\" + g for g in gene_names], ncols=3)"
   ]
  },
  {
   "cell_type": "markdown",
   "metadata": {
    "pycharm": {}
   },
   "source": [
    "### Analyze ranking difference between **t-test** and **scVI**"
   ]
  },
  {
   "cell_type": "code",
   "execution_count": null,
   "metadata": {
    "pycharm": {}
   },
   "outputs": [],
   "source": [
    "cluster_id = if_not_test_else(\"2\", \"0\")"
   ]
  },
  {
   "cell_type": "code",
   "execution_count": null,
   "metadata": {
    "pycharm": {}
   },
   "outputs": [],
   "source": [
    "from collections import defaultdict\n",
    "import seaborn as sns\n",
    "import matplotlib.pyplot as plt\n",
    "\n",
    "\n",
    "def plot_ranking(method_1, method_2):\n",
    "    mapping = defaultdict(list)\n",
    "\n",
    "    for rank, gene in enumerate(\n",
    "        adata.uns[\"rank_genes_groups_\" + method_1][\"names\"][cluster_id]\n",
    "    ):\n",
    "        mapping[gene].append(rank)\n",
    "    for rank, gene in enumerate(\n",
    "        adata.uns[\"rank_genes_groups_\" + method_2][\"names\"][cluster_id]\n",
    "    ):\n",
    "        mapping[gene].append(rank)\n",
    "\n",
    "    x, y = np.array(list(mapping.values())).T\n",
    "\n",
    "    # n_genes = all_genes\n",
    "    n_genes = all_genes\n",
    "\n",
    "    plt.figure(figsize=(8, 8))\n",
    "    sns.scatterplot(x, y, s=10)\n",
    "    plt.axhline(100, c=\"red\")\n",
    "    plt.axvline(100, c=\"red\")\n",
    "    plt.xlim(0, n_genes)\n",
    "    plt.ylim(0, n_genes)\n",
    "    plt.xlabel(method_1 + \" ranking\")\n",
    "    plt.ylabel(method_2 + \" ranking\")"
   ]
  },
  {
   "cell_type": "code",
   "execution_count": null,
   "metadata": {
    "pycharm": {}
   },
   "outputs": [],
   "source": [
    "plot_ranking(\"scvi\", \"ttest\")\n",
    "plot_ranking(\"wilcox\", \"ttest\")"
   ]
  },
  {
   "cell_type": "markdown",
   "metadata": {
    "pycharm": {}
   },
   "source": [
    "### Investigating discrepancies"
   ]
  },
  {
   "cell_type": "markdown",
   "metadata": {
    "pycharm": {}
   },
   "source": [
    "Cluster 4 top genes of t-test and scvi are totally different, but when we look closer at the data one can notice:\n",
    "- The Bayes factor (or t-test score) are all very low for the cluster (no genes are significant)\n",
    "- Plots confirm the latter point: the top genes are not specific to the cluster and are either noise or overlapping with other clusters\n",
    "\n",
    "Specifically, we plot first the expression levels of genes selected by scVI, then of genes selected by the t-test. In both cases, genes seem irrelevant."
   ]
  },
  {
   "cell_type": "code",
   "execution_count": null,
   "metadata": {
    "pycharm": {},
    "scrolled": false
   },
   "outputs": [],
   "source": [
    "n_genes = 10\n",
    "\n",
    "cluster_id = if_not_test_else(2, 0)\n",
    "\n",
    "genes = differential_expression[\n",
    "    differential_expression[\"clusters\"] == cluster_id\n",
    "].index.tolist()\n",
    "sc.pl.umap(\n",
    "    adata,\n",
    "    color=[\"louvain_scvi\"]\n",
    "    + adata.uns[\"rank_genes_groups_scvi\"][\"names\"][str(cluster_id)].tolist()[:n_genes],\n",
    "    ncols=3,\n",
    ")\n",
    "sc.pl.umap(\n",
    "    adata,\n",
    "    color=[\"louvain_scvi\"]\n",
    "    + adata.uns[\"rank_genes_groups_ttest\"][\"names\"][str(cluster_id)].tolist()[:n_genes],\n",
    "    ncols=3,\n",
    ")"
   ]
  },
  {
   "cell_type": "markdown",
   "metadata": {
    "pycharm": {}
   },
   "source": [
    "scVi tends to predict samples that are not expressed outside the cluster when t-test tends to select highly expressed genes in the cluster even if it also expressed everywhere."
   ]
  },
  {
   "cell_type": "markdown",
   "metadata": {},
   "source": [
    "### Store differential expression scores"
   ]
  },
  {
   "cell_type": "code",
   "execution_count": null,
   "metadata": {},
   "outputs": [],
   "source": [
    "def store_de_scores(\n",
    "    adata: sc.AnnData, differential_expression: pd.DataFrame, save_path: str = None\n",
    "):\n",
    "    \"\"\"Creates, returns and writes a DataFrame with all the differential scores used in this notebook.\n",
    "    \n",
    "    Args:\n",
    "        adata: scRNAseq dataset\n",
    "        differential_expression: Pandas Dataframe containing the bayes factor for all genes and clusters\n",
    "        save_path: file path for writing the resulting table\n",
    "\n",
    "    Returns:\n",
    "        pandas.DataFrame containing the scores of each differential expression test.\n",
    "\n",
    "    \"\"\"\n",
    "    # get shapes for array initialisation\n",
    "    n_genes_de = differential_expression[\n",
    "        differential_expression[\"clusters\"] == 0\n",
    "    ].shape[0]\n",
    "    all_genes = adata.shape[1]\n",
    "    # check that all genes have been used\n",
    "    if n_genes_de != all_genes:\n",
    "        raise ValueError(\n",
    "            \"scvi differential expression has to have been run with n_genes=all_genes\"\n",
    "        )\n",
    "    # get tests results from AnnData unstructured annotations\n",
    "    rec_scores = []\n",
    "    rec_names = []\n",
    "    test_types = [\"ttest\", \"wilcox\"]\n",
    "    for test_type in test_types:\n",
    "        res = adata.uns[\"rank_genes_groups_\" + test_type]\n",
    "        rec_scores.append(res[\"scores\"])\n",
    "        rec_names.append(res[\"names\"])\n",
    "    # restrict scvi table to bayes factor\n",
    "    res = differential_expression[[\"bayes1\", \"clusters\"]]\n",
    "    # for each cluster join then append all\n",
    "    dfs_cluster = []\n",
    "    groups = res.groupby(\"clusters\")\n",
    "    for cluster, df in groups:\n",
    "        for rec_score, rec_name, test_type in zip(rec_scores, rec_names, test_types):\n",
    "            temp = pd.DataFrame(\n",
    "                rec_score[str(cluster)],\n",
    "                index=rec_name[str(cluster)],\n",
    "                columns=[test_type],\n",
    "            )\n",
    "            df = df.join(temp)\n",
    "        dfs_cluster.append(df)\n",
    "    res = pd.concat(dfs_cluster)\n",
    "    if save_path:\n",
    "        res.to_csv(save_path)\n",
    "    return res"
   ]
  },
  {
   "cell_type": "code",
   "execution_count": null,
   "metadata": {},
   "outputs": [],
   "source": [
    "de_table = store_de_scores(adata, differential_expression, save_path=None)\n",
    "de_table.head()"
   ]
  },
  {
   "cell_type": "markdown",
   "metadata": {
    "pycharm": {}
   },
   "source": [
    "# Running other ScanPy algorithms is easy, binding the index keys"
   ]
  },
  {
   "cell_type": "markdown",
   "metadata": {},
   "source": [
    "### PAGA"
   ]
  },
  {
   "cell_type": "code",
   "execution_count": null,
   "metadata": {
    "pycharm": {},
    "scrolled": true
   },
   "outputs": [],
   "source": [
    "sc.tl.paga(adata, groups=\"louvain_scvi\")\n",
    "sc.pl.paga(adata)"
   ]
  },
  {
   "cell_type": "markdown",
   "metadata": {
    "pycharm": {}
   },
   "source": [
    "###  HeatMap"
   ]
  },
  {
   "cell_type": "code",
   "execution_count": null,
   "metadata": {
    "pycharm": {}
   },
   "outputs": [],
   "source": [
    "marker_genes = gene_names[1:10]"
   ]
  },
  {
   "cell_type": "code",
   "execution_count": null,
   "metadata": {
    "pycharm": {},
    "scrolled": false
   },
   "outputs": [],
   "source": [
    "# sc.pl.heatmap(adata, marker_genes, groupby=\"louvain_scvi\", dendrogram=True)"
   ]
  },
  {
   "cell_type": "code",
   "execution_count": null,
   "metadata": {},
   "outputs": [],
   "source": []
  },
  {
   "cell_type": "code",
   "execution_count": null,
   "metadata": {},
   "outputs": [],
   "source": []
  }
 ],
 "metadata": {
  "anaconda-cloud": {},
  "kernelspec": {
   "display_name": "Python 3",
   "language": "python",
   "name": "python3"
  },
  "language_info": {
   "codemirror_mode": {
    "name": "ipython",
    "version": 3
   },
   "file_extension": ".py",
   "mimetype": "text/x-python",
   "name": "python",
   "nbconvert_exporter": "python",
   "pygments_lexer": "ipython3",
   "version": "3.7.3"
  }
 },
 "nbformat": 4,
 "nbformat_minor": 2
}
