{
  "cells": [
    {
      "cell_type": "code",
      "execution_count": 1,
      "metadata": {
        "collapsed": true,
        "pycharm": {}
      },
      "outputs": [],
      "source": [
        "cd ../../\n",
        "%matplotlib inline"
      ]
    },
    {
      "cell_type": "code",
      "execution_count": null,
      "metadata": {
        "pycharm": {}
      },
      "outputs": [],
      "source": [
        "n_epochs_all \u003d None\n",
        "save_path \u003d \u0027data/\u0027\n",
        "show_plot \u003d True"
      ]
    },
    {
      "cell_type": "markdown",
      "metadata": {
        "pycharm": {}
      },
      "source": [
        "# Setup before running the notebook\n",
        "\n",
        "- Create a virtual environment on terminal (Mac): \n",
        "    - python3 -m virtualenv env\n",
        "- Activate the virtual environment: \n",
        "    - source env/bin/activate\n",
        "- Install the following packages in the environment:\n",
        "    - pip3 install numpy, torch, anndata, seaborn, umap, umap-learn, loompy, tqdm, h5py, ipython, scikit-learn, pandas, jinja2, jupyter"
      ]
    },
    {
      "cell_type": "code",
      "execution_count": 2,
      "metadata": {
        "collapsed": true,
        "pycharm": {
          "is_executing": false
        }
      },
      "outputs": [],
      "source": [
        "import matplotlib\n",
        "matplotlib.rcParams[\u0027pdf.fonttype\u0027] \u003d 42\n",
        "matplotlib.rcParams[\u0027ps.fonttype\u0027] \u003d 42\n",
        "import matplotlib.pyplot as plt\n",
        "from matplotlib.colors import LinearSegmentedColormap\n",
        "import seaborn as sns\n",
        "\n",
        "\n",
        "import numpy as np\n",
        "import numpy.random as random\n",
        "import pandas as pd\n",
        "\n",
        "use_cuda \u003d True\n",
        "from scvi.dataset.dataset import GeneExpressionDataset\n",
        "from scvi.inference import UnsupervisedTrainer\n",
        "from scvi.models import SCANVI,VAE\n",
        "from scvi.inference.utils import louvain_clusters\n",
        "\n",
        "from umap import UMAP"
      ]
    },
    {
      "cell_type": "markdown",
      "metadata": {
        "pycharm": {}
      },
      "source": [
        "The raw data is provided in the Seurat notebook and can be downloaded [here](https://www.dropbox.com/s/79q6dttg8yl20zg/immune_alignment_expression_matrices.zip?dl\u003d1)"
      ]
    },
    {
      "cell_type": "markdown",
      "metadata": {
        "pycharm": {}
      },
      "source": [
        "# Tutorial\n",
        "\n",
        "\u003cfont size\u003d\u00273\u0027\u003eThis tutorial walks through the harmonization process, specifically making use of scVI and SCANVI, which are two tools that are applicable and useful for principled large-scale analysis of single-cell transcriptomics atlases. Data harmonization refers to the integration of two or more transcriptomics dataset into a single dataset on which any downstream analysis can be applied. The input datasets may come from very different sources and from samples with a different composition of cell types. \n",
        "\u003cbr\u003e\u003cbr\u003e\n",
        "__scVI__ is a deep generative model that has been developed for probabilistic representation of scRNA-seq data and performs well in both harmonization and harmonization-based annotation, going beyond just correcting batch effects. \n",
        "__SCANVI__ is a new method that is designed to harmonize datasets, while also explicitly leveraging any available labels to achieve more accurate annotation. SCANVI uses a semi-supervised generative model. \n",
        "\u003cbr\u003e\u003cbr\u003e\n",
        "The inference of both models (scVI, SCANVI) is done using neural networks, stochastic optimization, and variational inference and scales to millions of cells and multiple datasets. Furthermore, both methods provide a complete probabilistic representation of the data, which non-linearly controls not only for sample-to-sample bias, but also for other technical factors of variation such as over-dispersion, variable library size, and zero-inflation.\n",
        "\u003c/font\u003e\n",
        "\n",
        "\n",
        "\u003cfont size\u003d\u00273\u0027\u003eThe following tutorial is designed to provide an overview of the data harmonization methods, scVI and SCANVI. This tutorial runs through two examples: 1) Tabula Muris dataset and 2) Human dataset (Seurat)\n",
        "\u003cbr\u003e\n",
        "Goals:\n",
        "- Setting up and downloading datasets\n",
        "- Performing data harmonization with scVI\n",
        "- Performing marker selection from differentailly expressed genes for each cluster\n",
        "- Performing differential expression within each cluster\n",
        "\u003c/font\u003e"
      ]
    },
    {
      "cell_type": "markdown",
      "metadata": {
        "pycharm": {}
      },
      "source": [
        "### Dataset\n",
        "\n",
        "#### The cell below is used to load in two human PBMC dataset, one stimulated and one control. This example uses the dataset downloaded from here: https://www.dropbox.com/s/79q6dttg8yl20zg/immune_alignment_expression_matrices.zip?dl\u003d1 \n",
        "\n",
        "Download this data and unzip it to **HarmonizationNotebook/data**"
      ]
    },
    {
      "cell_type": "code",
      "execution_count": 8,
      "metadata": {
        "pycharm": {}
      },
      "outputs": [
        {
          "name": "stdout",
          "output_type": "stream",
          "text": [
            "File tests/data/immune_stimulated_expression_matrix.txt already downloaded\n",
            "Preprocessing dataset\n",
            "Finished preprocessing dataset\n",
            "Cells with zero expression in all genes considered were removed, the indices of the removed cells in the expression matrix were:\n",
            "[85]\n",
            "File tests/data/immune_control_expression_matrix.txt already downloaded\n",
            "Preprocessing dataset\n",
            "Finished preprocessing dataset\n",
            "Cells with zero expression in all genes considered were removed, the indices of the removed cells in the expression matrix were:\n",
            "[ 7 16 19 22 23 24 26 30 35 40 46 48 49 51 55 59 63 66 73 74 77 81 86 88\n",
            " 89 93 94 95]\n"
          ]
        }
      ],
      "source": [
        "from scvi.dataset.csv import CsvDataset\n",
        "stimulated \u003d CsvDataset(filename\u003d\u0027immune_stimulated_expression_matrix.txt\u0027,\n",
        "                        save_path\u003dsave_path,sep\u003d\u0027\\t\u0027, new_n_genes\u003d35635)\n",
        "control \u003d CsvDataset(filename\u003d\u0027immune_control_expression_matrix.txt\u0027,\n",
        "                     save_path\u003dsave_path, sep\u003d\u0027\\t\u0027, new_n_genes\u003d35635)"
      ]
    },
    {
      "cell_type": "markdown",
      "metadata": {
        "pycharm": {}
      },
      "source": [
        "# Concatenate Datasets"
      ]
    },
    {
      "cell_type": "code",
      "execution_count": 9,
      "metadata": {
        "pycharm": {}
      },
      "outputs": [
        {
          "name": "stdout",
          "output_type": "stream",
          "text": [
            "Keeping 99 genes\n"
          ]
        }
      ],
      "source": [
        "all_dataset \u003d GeneExpressionDataset.concat_datasets(control, stimulated)"
      ]
    },
    {
      "cell_type": "markdown",
      "metadata": {
        "pycharm": {}
      },
      "source": [
        "# scVI (single-cell Variational Inference)\n",
        "\n",
        "\u003cfont size\u003d\u00273\u0027\u003e___scVI___ is a hierarchical Bayesian model for single-cell RNA sequencing data with conditional distributions parametrized by neural networks. Working as a hybrid between a neural network and a bayesian network, scVI performs data harmonization. VAE refers to variational auto-encoders for single-cell gene expression data. scVI is similar to VAE as it tries to bring a more suitable structure to the latent space. While VAE allows users to make observations in a semi-supervised fashion, scVI is easier to train and specific cell-type labels for the dataset are not required in the pure unsupervised case.\n",
        "\u003c/font\u003e\n",
        "\n",
        "\n",
        "\n",
        "## Define the scVI model\n",
        "* First, we define the model and its hyperparameters: \n",
        "    * __n_hidden__: number of units in the hidden layer \u003d 128\n",
        "    * __n_latent__: number of dimensions in the shared latent space \u003d 10 (how many dimensions in z)\n",
        "    * __n_layers__: number of layers in the neural network\n",
        "    * __dispersion__: \u0027gene\u0027: each gene has its own dispersion parameter; \u0027gene-batch\u0027: each gene in each batch has its own dispersion parameter\n",
        "* Then, we define a trainer using the model and the dataset to train it with\n",
        "    * in the unsupervised setting, __train_size__\u003d1.0 and all cells are used for training\n"
      ]
    },
    {
      "cell_type": "code",
      "execution_count": 10,
      "metadata": {
        "pycharm": {}
      },
      "outputs": [
        {
          "name": "stdout",
          "output_type": "stream",
          "text": [
            "training: 100%|██████████| 100/100 [00:04\u003c00:00, 24.38it/s]\n"
          ]
        }
      ],
      "source": [
        "vae \u003d VAE(all_dataset.nb_genes, n_batch\u003dall_dataset.n_batches, n_labels\u003dall_dataset.n_labels,\n",
        "          n_hidden\u003d128, n_latent\u003d30, n_layers\u003d2, dispersion\u003d\u0027gene\u0027)\n",
        "\n",
        "trainer \u003d UnsupervisedTrainer(vae, all_dataset, train_size\u003d1.0)\n",
        "n_epochs \u003d 100 if n_epochs_all is None else n_epochs_all\n",
        "trainer.train(n_epochs\u003dn_epochs)"
      ]
    },
    {
      "cell_type": "markdown",
      "metadata": {
        "pycharm": {}
      },
      "source": [
        "## Train the vae model for 100 epochs (this should take apporximately 12 minutes on a GPU)\n",
        "\n",
        "#### If it is desired to save to model and take on the downstream analysis later, save the model, and comment out trainer.train()\n",
        "#### Use the saved model to ensure that the down stream analysis cluster id are identical, but the result is robust to reruns of the model, although the exact numerical ids of the clusters might change"
      ]
    },
    {
      "cell_type": "code",
      "execution_count": 11,
      "metadata": {
        "collapsed": true,
        "pycharm": {}
      },
      "outputs": [],
      "source": [
        "# trainer.train(n_epochs\u003d100)\n",
        "# torch.save(trainer.model.state_dict(),save_path+\u0027harmonization.vae.allgenes.30.model.pkl\u0027)"
      ]
    },
    {
      "cell_type": "markdown",
      "metadata": {
        "pycharm": {}
      },
      "source": [
        "#### And load the trained weights using load_state_dict "
      ]
    },
    {
      "cell_type": "code",
      "execution_count": 12,
      "metadata": {
        "collapsed": true,
        "pycharm": {}
      },
      "outputs": [],
      "source": [
        "# trainer.model.load_state_dict(torch.load(save_path+\u0027harmonization.vae.allgenes.30.model.pkl\u0027))\n",
        "# trainer.model.eval()"
      ]
    },
    {
      "cell_type": "markdown",
      "metadata": {
        "pycharm": {}
      },
      "source": [
        "# Visualize the latent space\n",
        "\n",
        "\u003cfont size\u003d\u00273\u0027\u003e The latent space representation of the cells provides a way to address the harmonization problem, as all the cells are projected onto a joint latent space, inferred while controlling for their dataset of origin. \u003c/font\u003e\n",
        "\n",
        "### Obtain the latent space from the posterior object\n",
        "\u003cfont size\u003d\u00273\u0027\u003e First, the posterior object is obtained by providing the model that was trained on the dataset. Then, the latent space along with the labels is obtained. \u003c/font\u003e"
      ]
    },
    {
      "cell_type": "code",
      "execution_count": 13,
      "metadata": {
        "collapsed": true,
        "pycharm": {}
      },
      "outputs": [],
      "source": [
        "full \u003d trainer.create_posterior(trainer.model, all_dataset, indices\u003dnp.arange(len(all_dataset)))\n",
        "latent, batch_indices, labels \u003d full.sequential().get_latent()\n",
        "batch_indices \u003d batch_indices.ravel()"
      ]
    },
    {
      "cell_type": "markdown",
      "metadata": {
        "pycharm": {}
      },
      "source": [
        "### Use UMAP to generate 2D visualization"
      ]
    },
    {
      "cell_type": "code",
      "execution_count": 14,
      "metadata": {
        "collapsed": true,
        "pycharm": {}
      },
      "outputs": [],
      "source": [
        "latent_u \u003d UMAP(spread\u003d2).fit_transform(latent)"
      ]
    },
    {
      "cell_type": "markdown",
      "metadata": {
        "pycharm": {}
      },
      "source": [
        "### Plot data colored by batch"
      ]
    },
    {
      "cell_type": "code",
      "execution_count": 15,
      "metadata": {
        "collapsed": true,
        "pycharm": {}
      },
      "outputs": [],
      "source": [
        "cm \u003d LinearSegmentedColormap.from_list(\n",
        "        \u0027my_cm\u0027, [\u0027deepskyblue\u0027, \u0027hotpink\u0027], N\u003d2)\n",
        "fig, ax \u003d plt.subplots(figsize\u003d(5, 5))\n",
        "order \u003d np.arange(latent.shape[0])\n",
        "random.shuffle(order)\n",
        "ax.scatter(latent_u[order, 0], latent_u[order, 1], \n",
        "           c\u003dall_dataset.batch_indices.ravel()[order], \n",
        "           cmap\u003dcm, edgecolors\u003d\u0027none\u0027, s\u003d5)    \n",
        "plt.axis(\"off\")\n",
        "plt.tight_layout()\n",
        "plt.show()\n"
      ]
    },
    {
      "cell_type": "code",
      "execution_count": 16,
      "metadata": {
        "collapsed": true,
        "pycharm": {}
      },
      "outputs": [],
      "source": [
        "clusters \u003d louvain_clusters(latent, k\u003d30, rands\u003d0)"
      ]
    },
    {
      "cell_type": "markdown",
      "metadata": {
        "pycharm": {}
      },
      "source": [
        "### plot clusters in 2D UMAP\n"
      ]
    },
    {
      "cell_type": "code",
      "execution_count": 17,
      "metadata": {
        "collapsed": true,
        "pycharm": {}
      },
      "outputs": [],
      "source": [
        "colors \u003d [\"#991f1f\", \"#ff9999\", \"#ff4400\", \"#ff8800\", \"#664014\", \"#665c52\",\n",
        "          \"#cca300\", \"#f1ff33\", \"#b4cca3\", \"#0e6600\", \"#33ff4e\", \"#00ccbe\",\n",
        "          \"#0088ff\", \"#7aa6cc\", \"#293966\", \"#0000ff\", \"#9352cc\", \"#cca3c9\", \"#cc2996\"]\n",
        "\n",
        "plt.figure(figsize\u003d(7, 7), facecolor\u003d\u0027w\u0027, edgecolor\u003d\u0027k\u0027)\n",
        "for i, k in enumerate(np.unique(clusters)):\n",
        "    plt.scatter(latent_u[clusters \u003d\u003d k, 0], latent_u[clusters \u003d\u003d k, 1], label\u003dk,\n",
        "                edgecolors\u003d\u0027none\u0027, c\u003dcolors[k], s\u003d5)\n",
        "    plt.legend(borderaxespad\u003d0, fontsize\u003d\u0027large\u0027, markerscale\u003d5)\n",
        "\n",
        "plt.axis(\u0027off\u0027)\n",
        "plt.tight_layout()\n",
        "plt.show()\n"
      ]
    },
    {
      "cell_type": "markdown",
      "metadata": {
        "pycharm": {}
      },
      "source": [
        "###### Generate list of genes that is enriched for higher expression in cluster i compared to all other clusters\n",
        "Here we compare the gene expression in cells from one cluster to all the other cells by \n",
        "* sampling mean parameter from the scVI ZINB model\n",
        "* compare pairs of cells from one subset v.s. the other \n",
        "* compute bayes factor based on the number of times the cell from the cluster of interest has a higher expression\n",
        "* generate DE genelist ranked by the bayes factor"
      ]
    },
    {
      "cell_type": "code",
      "execution_count": 18,
      "metadata": {
        "collapsed": true,
        "pycharm": {}
      },
      "outputs": [],
      "source": [
        "# change to output_file\u003dTrue to get an Excel file with all DE information\n",
        "de_res, de_clust \u003d full.one_vs_all_degenes(cell_labels\u003dclusters, n_samples\u003d10000, \n",
        "                                           M_permutation\u003d10000, output_file\u003dFalse,\n",
        "                                           save_dir\u003dsave_path, filename\u003d\u0027Harmonized_ClusterDE\u0027,\n",
        "                                           min_cells\u003d1)\n",
        "\n",
        "# with open(save_path+\u0027Harmonized_ClusterDE.pkl\u0027, \u0027wb\u0027) as f:\n",
        "#     pickle.dump((de_res, de_clust), f)\n",
        "\n",
        "# with open(save_path+\u0027Harmonized_ClusterDE.pkl\u0027, \u0027rb\u0027) as f:\n",
        "#     de_res, de_clust \u003d pickle.load(f)\n"
      ]
    },
    {
      "cell_type": "markdown",
      "metadata": {
        "pycharm": {}
      },
      "source": [
        "# Find markers for each cluster\n",
        "**absthres** is the minimum average number of UMI in the cluster of interest to be a marker gene\n",
        "\n",
        "**relthres** is the minimum fold change in number of UMI in the cluster of interest compared to all other cells for a differentially expressed gene to be a marker gene\n"
      ]
    },
    {
      "cell_type": "code",
      "execution_count": 19,
      "metadata": {
        "collapsed": true,
        "pycharm": {}
      },
      "outputs": [],
      "source": [
        "def find_markers(deres, absthres, relthres, ngenes):\n",
        "    allgenes \u003d []\n",
        "    for i, x in enumerate(deres):\n",
        "        markers \u003d x.loc[(x[\u0027mean1\u0027] \u003e absthres) \u0026 (x[\u0027norm_mean1\u0027] / x[\u0027norm_mean2\u0027] \u003e relthres)]\n",
        "        if len(markers\u003e0):\n",
        "            ngenes \u003d np.min([len(markers), ngenes])\n",
        "            markers \u003d markers[:ngenes]\n",
        "            allgenes.append(markers)\n",
        "    if len(allgenes)\u003e0:\n",
        "        markers \u003d pd.concat(allgenes)\n",
        "        return markers\n",
        "    else: \n",
        "        return pd.DataFrame(columns\u003d[\u0027bayes1\u0027,\u0027mean1\u0027,\u0027mean2\u0027,\u0027scale1\u0027,\u0027scale2\u0027,\u0027clusters\u0027])"
      ]
    },
    {
      "cell_type": "code",
      "execution_count": 20,
      "metadata": {
        "collapsed": true,
        "pycharm": {}
      },
      "outputs": [],
      "source": [
        "clustermarkers \u003d find_markers(de_res, absthres\u003d0.5, relthres\u003d2, ngenes\u003d3)"
      ]
    },
    {
      "cell_type": "code",
      "execution_count": 21,
      "metadata": {
        "pycharm": {}
      },
      "outputs": [
        {
          "data": {
            "text/html": [
              "\u003cdiv\u003e\n",
              "\u003cstyle scoped\u003e\n",
              "    .dataframe tbody tr th:only-of-type {\n",
              "        vertical-align: middle;\n",
              "    }\n",
              "\n",
              "    .dataframe tbody tr th {\n",
              "        vertical-align: top;\n",
              "    }\n",
              "\n",
              "    .dataframe thead th {\n",
              "        text-align: right;\n",
              "    }\n",
              "\u003c/style\u003e\n",
              "\u003ctable border\u003d\"1\" class\u003d\"dataframe\"\u003e\n",
              "  \u003cthead\u003e\n",
              "    \u003ctr style\u003d\"text-align: right;\"\u003e\n",
              "      \u003cth\u003e\u003c/th\u003e\n",
              "      \u003cth\u003ebayes1\u003c/th\u003e\n",
              "      \u003cth\u003emean1\u003c/th\u003e\n",
              "      \u003cth\u003emean2\u003c/th\u003e\n",
              "      \u003cth\u003escale1\u003c/th\u003e\n",
              "      \u003cth\u003escale2\u003c/th\u003e\n",
              "      \u003cth\u003eclusters\u003c/th\u003e\n",
              "    \u003c/tr\u003e\n",
              "  \u003c/thead\u003e\n",
              "  \u003ctbody\u003e\n",
              "  \u003c/tbody\u003e\n",
              "\u003c/table\u003e\n",
              "\u003c/div\u003e"
            ],
            "text/plain": [
              "Empty DataFrame\n",
              "Columns: [bayes1, mean1, mean2, scale1, scale2, clusters]\n",
              "Index: []"
            ]
          },
          "execution_count": 21,
          "metadata": {},
          "output_type": "execute_result"
        }
      ],
      "source": [
        "clustermarkers[[\u0027bayes1\u0027, \u0027mean1\u0027, \u0027mean2\u0027, \u0027scale1\u0027, \u0027scale2\u0027, \u0027clusters\u0027]]"
      ]
    },
    {
      "cell_type": "markdown",
      "metadata": {
        "pycharm": {}
      },
      "source": [
        "# Plotting known cluster unique genes"
      ]
    },
    {
      "cell_type": "code",
      "execution_count": 22,
      "metadata": {
        "collapsed": true,
        "pycharm": {}
      },
      "outputs": [],
      "source": [
        "Markers \u003d [\"CD3D\", \"SELL\", \"CREM\", \"CD8B\", \"GNLY\", \"CD79A\", \"FCGR3A\", \"CCL2\", \"PPBP\"]"
      ]
    },
    {
      "cell_type": "code",
      "execution_count": 23,
      "metadata": {
        "collapsed": true,
        "pycharm": {}
      },
      "outputs": [],
      "source": [
        "def plot_marker_genes(latent_u, count, genenames, markers):\n",
        "    nrow \u003d (len(markers) // 3 + 1)\n",
        "    figh \u003d nrow * 4\n",
        "    plt.figure(figsize\u003d(10, figh))\n",
        "    for i, x in enumerate(markers):\n",
        "        if np.sum(genenames \u003d\u003d x)\u003d\u003d1:\n",
        "            exprs \u003d count[:, genenames \u003d\u003d x].ravel()\n",
        "            idx \u003d (exprs \u003e 0)\n",
        "            plt.subplot(nrow, 3, (i + 1))\n",
        "            plt.scatter(latent_u[:, 0], latent_u[:, 1], c\u003d\u0027lightgrey\u0027, edgecolors\u003d\u0027none\u0027, s\u003d5)\n",
        "            plt.scatter(latent_u[idx, 0], latent_u[idx, 1], c\u003dexprs[idx], cmap\u003dplt.get_cmap(\u0027viridis_r\u0027),\n",
        "                        edgecolors\u003d\u0027none\u0027, s\u003d3)\n",
        "            plt.title(x)\n",
        "            plt.tight_layout()\n",
        "    plt.show()"
      ]
    },
    {
      "cell_type": "code",
      "execution_count": 24,
      "metadata": {
        "collapsed": true,
        "pycharm": {}
      },
      "outputs": [],
      "source": [
        "if len(clustermarkers) \u003e 0:\n",
        "    plot_marker_genes(latent_u[clusters \u003e\u003d 0, :], all_dataset.X[clusters \u003e\u003d 0, :], \n",
        "                  all_dataset.gene_names,\n",
        "                  np.asarray(Markers))"
      ]
    },
    {
      "cell_type": "markdown",
      "metadata": {
        "pycharm": {}
      },
      "source": [
        "### Here we plot the heatmap of average marker gene expression of each cluster"
      ]
    },
    {
      "cell_type": "code",
      "execution_count": 25,
      "metadata": {
        "collapsed": true,
        "pycharm": {}
      },
      "outputs": [],
      "source": [
        "markergenes \u003d [\"CD3D\", \"CREM\", \"HSPH1\", \"SELL\", \"GIMAP5\", \"CACYBP\", \"GNLY\", \n",
        "    \"NKG7\", \"CCL5\", \"CD8A\", \"MS4A1\", \"CD79A\", \"MIR155HG\", \"NME1\", \"FCGR3A\", \n",
        "    \"VMO1\", \"CCL2\", \"S100A9\", \"HLA-DQA1\", \"GPR183\", \"PPBP\", \"GNG11\", \"HBA2\", \n",
        "    \"HBB\", \"TSPAN13\", \"IL3RA\", \"IGJ\"]"
      ]
    },
    {
      "cell_type": "code",
      "execution_count": 26,
      "metadata": {
        "collapsed": true,
        "pycharm": {}
      },
      "outputs": [],
      "source": [
        "percluster_exprs \u003d []\n",
        "marker_names \u003d []\n",
        "for marker in markergenes:\n",
        "    if np.sum(all_dataset.gene_names \u003d\u003d marker) \u003d\u003d 1:\n",
        "        mean \u003d [np.mean(all_dataset.X[clusters \u003d\u003d i, all_dataset.gene_names \u003d\u003d marker]) for i in np.unique(clusters)]\n",
        "        mean \u003d np.asarray(mean)\n",
        "        percluster_exprs.append(np.log10(mean / np.mean(mean) + 1))\n",
        "        marker_names.append(marker)\n"
      ]
    },
    {
      "cell_type": "code",
      "execution_count": 27,
      "metadata": {
        "collapsed": true,
        "pycharm": {}
      },
      "outputs": [],
      "source": [
        "if len(percluster_exprs) \u003e 0:\n",
        "    percluster_exprs \u003d pd.DataFrame(percluster_exprs, index\u003dmarker_names)\n",
        "    sns.clustermap(percluster_exprs, row_cluster\u003dFalse, col_cluster\u003dTrue)"
      ]
    },
    {
      "cell_type": "markdown",
      "metadata": {
        "pycharm": {}
      },
      "source": [
        "# Plotting scVI discovered marker genes\n",
        "### Each row contains the top 3 marker gene expression of its corresponding cluster"
      ]
    },
    {
      "cell_type": "code",
      "execution_count": 28,
      "metadata": {
        "collapsed": true,
        "pycharm": {}
      },
      "outputs": [],
      "source": [
        "plot_marker_genes(latent_u[clusters \u003e\u003d 0, :], all_dataset.X[clusters \u003e\u003d 0, :],\n",
        "                  all_dataset.gene_names, np.asarray(clustermarkers.index))\n"
      ]
    },
    {
      "cell_type": "markdown",
      "metadata": {
        "pycharm": {}
      },
      "source": [
        "# Compare list of genes that are differencially expressed in each clusters"
      ]
    },
    {
      "cell_type": "code",
      "execution_count": 29,
      "metadata": {
        "collapsed": true,
        "pycharm": {}
      },
      "outputs": [],
      "source": [
        "# change to output_file\u003dTrue to get an Excel file with all DE information\n",
        "de_res_stim, de_clust_stim \u003d full.within_cluster_degenes(cell_labels\u003dclusters,\n",
        "                                                         states\u003dall_dataset.batch_indices.ravel() \u003d\u003d 1,\n",
        "                                                         output_file\u003dFalse, batch1\u003d[1], batch2\u003d[0],\n",
        "                                                         save_dir\u003dsave_path, filename\u003d\u0027Harmonized_StimDE\u0027,\n",
        "                                                         min_cells\u003d1)\n",
        "\n",
        "# with open(save_path+\u0027Harmonized_StimDE.pkl\u0027, \u0027wb\u0027) as f:\n",
        "#     pickle.dump((de_res_stim,de_clust_stim), f)\n",
        "\n",
        "# with open(save_path+\u0027Harmonized_StimDE.pkl\u0027, \u0027rb\u0027) as f:\n",
        "#     de_res_stim,de_clust_stim \u003d pickle.load(f)\n"
      ]
    },
    {
      "cell_type": "code",
      "execution_count": 30,
      "metadata": {
        "collapsed": true,
        "pycharm": {}
      },
      "outputs": [],
      "source": [
        "genelist \u003d []\n",
        "for i, x in enumerate(de_clust_stim):\n",
        "    de \u003d de_res_stim[i].loc[de_res_stim[i][\"mean1\"] \u003e 1]\n",
        "    de \u003d de.loc[de[\"bayes1\"] \u003e 2]\n",
        "    if len(de) \u003e 0:\n",
        "        de[\"cluster\"] \u003d np.repeat(x, len(de))\n",
        "        genelist.append(de)\n",
        "\n",
        "        \n",
        "if len(genelist) \u003e 0:\n",
        "    genelist \u003d pd.concat(genelist)\n",
        "    genelist[\"genenames\"] \u003d list(genelist.index)\n",
        "    degenes, nclusterde \u003d np.unique(genelist.index, return_counts\u003dTrue)"
      ]
    },
    {
      "cell_type": "markdown",
      "metadata": {
        "pycharm": {}
      },
      "source": [
        "### Genes that are differentially expressed in at least 10 of the clsuters"
      ]
    },
    {
      "cell_type": "code",
      "execution_count": 32,
      "metadata": {
        "pycharm": {}
      },
      "outputs": [
        {
          "name": "stdout",
          "output_type": "stream",
          "text": [
            "\n"
          ]
        }
      ],
      "source": [
        "if len(genelist) \u003e 0:\n",
        "    print(\", \".join(degenes[nclusterde \u003e 11]))"
      ]
    },
    {
      "cell_type": "code",
      "execution_count": 33,
      "metadata": {
        "collapsed": true,
        "pycharm": {}
      },
      "outputs": [],
      "source": [
        "if len(genelist) \u003e 0:\n",
        "    cluster0shared \u003d genelist.loc[genelist[\u0027genenames\u0027].isin(degenes[nclusterde \u003e 10])]\n",
        "    cluster0shared \u003d cluster0shared.loc[cluster0shared[\u0027cluster\u0027] \u003d\u003d 0]"
      ]
    },
    {
      "cell_type": "code",
      "execution_count": 34,
      "metadata": {
        "collapsed": true,
        "pycharm": {}
      },
      "outputs": [],
      "source": [
        "def plot_marker_genes_compare(latent_u, count, genenames, markers, subset):\n",
        "    nrow \u003d len(markers)\n",
        "    figh \u003d nrow * 4\n",
        "    plt.figure(figsize\u003d(8, figh))\n",
        "    notsubset \u003d np.asarray([not x for x in subset])\n",
        "    for i, x in enumerate(markers):\n",
        "        if np.sum(genenames \u003d\u003d x) \u003d\u003d 1:\n",
        "            exprs \u003d count[:, genenames \u003d\u003d x].ravel()\n",
        "            idx \u003d (exprs \u003e 0)\n",
        "            plt.subplot(nrow, 2, (i * 2 + 1))\n",
        "            plt.scatter(latent_u[subset, 0], latent_u[subset, 1], c\u003d\u0027lightgrey\u0027, edgecolors\u003d\u0027none\u0027, s\u003d5)\n",
        "            plt.scatter(latent_u[idx, 0][subset[idx]], latent_u[idx, 1][subset[idx]], c\u003dexprs[idx][subset[idx]],\n",
        "                        cmap\u003dplt.get_cmap(\u0027viridis_r\u0027), edgecolors\u003d\u0027none\u0027, s\u003d3)\n",
        "            plt.title(x + \u0027 control\u0027)\n",
        "            plt.tight_layout()\n",
        "            plt.subplot(nrow, 2, (i * 2 + 2))\n",
        "            plt.scatter(latent_u[notsubset, 0], latent_u[notsubset, 1], c\u003d\u0027lightgrey\u0027, edgecolors\u003d\u0027none\u0027, s\u003d5)\n",
        "            plt.scatter(latent_u[idx, 0][notsubset[idx]], latent_u[idx, 1][notsubset[idx]],\n",
        "                        c\u003dexprs[idx][notsubset[idx]], cmap\u003dplt.get_cmap(\u0027viridis_r\u0027), edgecolors\u003d\u0027none\u0027, s\u003d3)\n",
        "            plt.title(x + \u0027 stimulated\u0027)\n",
        "    plt.show()"
      ]
    },
    {
      "cell_type": "code",
      "execution_count": null,
      "metadata": {
        "pycharm": {}
      },
      "outputs": [],
      "source": [
        "plot_marker_genes_compare(latent_u, all_dataset.X, all_dataset.gene_names, \n",
        "                          [\"CD3D\", \"GNLY\", \"IFI6\", \"ISG15\", \"CD14\", \"CXCL10\"], batch_indices \u003d\u003d 0)"
      ]
    },
    {
      "cell_type": "code",
      "execution_count": 35,
      "metadata": {
        "collapsed": true,
        "pycharm": {}
      },
      "outputs": [],
      "source": [
        "if len(genelist) \u003e 0:\n",
        "    plot_marker_genes_compare(latent_u, all_dataset.X, \n",
        "                          all_dataset.gene_names, cluster0shared.index, \n",
        "                          batch_indices \u003d\u003d 0)"
      ]
    },
    {
      "cell_type": "markdown",
      "metadata": {
        "pycharm": {}
      },
      "source": [
        "### Genes that are differentially expressed in one single cluster"
      ]
    },
    {
      "cell_type": "code",
      "execution_count": 36,
      "metadata": {
        "collapsed": true,
        "pycharm": {}
      },
      "outputs": [],
      "source": [
        "if len(genelist) \u003e 0 and len(nclusterde) \u003e 0:\n",
        "    degenes[nclusterde \u003d\u003d 1]\n",
        "    clusteruniq \u003d genelist.loc[genelist[\u0027genenames\u0027].isin(degenes[nclusterde \u003d\u003d 1])]\n",
        "    clusteruniq \u003d clusteruniq.loc[clusteruniq[\u0027cluster\u0027] \u003d\u003d 3]\n",
        "    plot_marker_genes_compare(latent_u, all_dataset.X, all_dataset.gene_names, clusteruniq.index, batch_indices \u003d\u003d 0)"
      ]
    },
    {
      "cell_type": "code",
      "execution_count": 37,
      "metadata": {
        "collapsed": true,
        "pycharm": {}
      },
      "outputs": [],
      "source": [
        "def allow_notebook_for_test():\n",
        "    print(\"Testing the annotation notebook\")"
      ]
    }
  ],
  "metadata": {
    "kernelspec": {
      "name": "pycharm-5cbde41a",
      "language": "python",
      "display_name": "PyCharm (scVI)"
    },
    "language_info": {
      "codemirror_mode": {
        "name": "ipython",
        "version": 3
      },
      "file_extension": ".py",
      "mimetype": "text/x-python",
      "name": "python",
      "nbconvert_exporter": "python",
      "pygments_lexer": "ipython3",
      "version": "3.7.2"
    }
  },
  "nbformat": 4,
  "nbformat_minor": 2
}